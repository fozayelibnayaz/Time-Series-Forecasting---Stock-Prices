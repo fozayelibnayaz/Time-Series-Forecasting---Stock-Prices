{
  "nbformat": 4,
  "nbformat_minor": 0,
  "metadata": {
    "colab": {
      "provenance": [],
      "gpuType": "T4"
    },
    "kernelspec": {
      "name": "python3",
      "display_name": "Python 3"
    },
    "language_info": {
      "name": "python"
    },
    "accelerator": "GPU"
  },
  "cells": [
    {
      "cell_type": "code",
      "execution_count": null,
      "metadata": {
        "colab": {
          "base_uri": "https://localhost:8080/"
        },
        "id": "FDnWBs-NcVzP",
        "outputId": "9c62ca5e-d7f0-4ba3-e72c-f9c30dafabdc"
      },
      "outputs": [
        {
          "output_type": "stream",
          "name": "stdout",
          "text": [
            "Thu Oct  2 05:45:17 2025       \n",
            "+-----------------------------------------------------------------------------------------+\n",
            "| NVIDIA-SMI 550.54.15              Driver Version: 550.54.15      CUDA Version: 12.4     |\n",
            "|-----------------------------------------+------------------------+----------------------+\n",
            "| GPU  Name                 Persistence-M | Bus-Id          Disp.A | Volatile Uncorr. ECC |\n",
            "| Fan  Temp   Perf          Pwr:Usage/Cap |           Memory-Usage | GPU-Util  Compute M. |\n",
            "|                                         |                        |               MIG M. |\n",
            "|=========================================+========================+======================|\n",
            "|   0  Tesla T4                       Off |   00000000:00:04.0 Off |                    0 |\n",
            "| N/A   51C    P8              9W /   70W |       0MiB /  15360MiB |      0%      Default |\n",
            "|                                         |                        |                  N/A |\n",
            "+-----------------------------------------+------------------------+----------------------+\n",
            "                                                                                         \n",
            "+-----------------------------------------------------------------------------------------+\n",
            "| Processes:                                                                              |\n",
            "|  GPU   GI   CI        PID   Type   Process name                              GPU Memory |\n",
            "|        ID   ID                                                               Usage      |\n",
            "|=========================================================================================|\n",
            "|  No running processes found                                                             |\n",
            "+-----------------------------------------------------------------------------------------+\n"
          ]
        }
      ],
      "source": [
        "# Cell: Check GPU (Code)\n",
        "!nvidia-smi"
      ]
    },
    {
      "cell_type": "code",
      "source": [
        "# Cell: Mount Google Drive (Code)\n",
        "from google.colab import drive\n",
        "drive.mount('/content/drive')\n",
        "# make a project folder\n",
        "import os\n",
        "PROJECT_DIR = '/content/drive/MyDrive/StockForecasting'\n",
        "os.makedirs(PROJECT_DIR, exist_ok=True)\n",
        "print(\"Artifacts will be saved to:\", PROJECT_DIR)"
      ],
      "metadata": {
        "colab": {
          "base_uri": "https://localhost:8080/"
        },
        "id": "pbL8nSsyd_Pi",
        "outputId": "31479667-8d1a-411f-8a68-eccc72ee442b"
      },
      "execution_count": null,
      "outputs": [
        {
          "output_type": "stream",
          "name": "stdout",
          "text": [
            "Drive already mounted at /content/drive; to attempt to forcibly remount, call drive.mount(\"/content/drive\", force_remount=True).\n",
            "Artifacts will be saved to: /content/drive/MyDrive/StockForecasting\n"
          ]
        }
      ]
    },
    {
      "cell_type": "markdown",
      "source": [
        "# Stock Forecasting: ARIMA vs LSTM  \n",
        "Notebook: Stock_Forecasting_ARIMA_LSTM.ipynb  \n",
        "\n",
        "Goal: download stock data, run ARIMA (statistical) and LSTM (deep learning),  \n",
        "evaluate with rolling (walk-forward) evaluation, save models and upload to Hugging Face."
      ],
      "metadata": {
        "id": "wDkWA-wAec6e"
      }
    },
    {
      "cell_type": "code",
      "source": [
        "# Cell 1: Install packages (Code)\n",
        "# NOTE: installs may take 2-4 minutes. Run once.\n",
        "!pip install --upgrade --quiet yfinance pmdarima statsmodels tensorflow scikit-learn matplotlib seaborn huggingface_hub gradio joblib"
      ],
      "metadata": {
        "colab": {
          "base_uri": "https://localhost:8080/"
        },
        "id": "NKN5GhwOepn9",
        "outputId": "7af94f8a-d29f-4499-9851-0d220f488252"
      },
      "execution_count": null,
      "outputs": [
        {
          "output_type": "stream",
          "name": "stdout",
          "text": [
            "\u001b[2K   \u001b[90m━━━━━━━━━━━━━━━━━━━━━━━━━━━━━━━━━━━━━━━━\u001b[0m \u001b[32m2.3/2.3 MB\u001b[0m \u001b[31m76.4 MB/s\u001b[0m eta \u001b[36m0:00:00\u001b[0m\n",
            "\u001b[2K   \u001b[90m━━━━━━━━━━━━━━━━━━━━━━━━━━━━━━━━━━━━━━━━\u001b[0m \u001b[32m620.7/620.7 MB\u001b[0m \u001b[31m2.8 MB/s\u001b[0m eta \u001b[36m0:00:00\u001b[0m\n",
            "\u001b[2K   \u001b[90m━━━━━━━━━━━━━━━━━━━━━━━━━━━━━━━━━━━━━━━━\u001b[0m \u001b[32m9.5/9.5 MB\u001b[0m \u001b[31m103.4 MB/s\u001b[0m eta \u001b[36m0:00:00\u001b[0m\n",
            "\u001b[2K   \u001b[90m━━━━━━━━━━━━━━━━━━━━━━━━━━━━━━━━━━━━━━━━\u001b[0m \u001b[32m8.7/8.7 MB\u001b[0m \u001b[31m97.3 MB/s\u001b[0m eta \u001b[36m0:00:00\u001b[0m\n",
            "\u001b[2K   \u001b[90m━━━━━━━━━━━━━━━━━━━━━━━━━━━━━━━━━━━━━━━━\u001b[0m \u001b[32m564.3/564.3 kB\u001b[0m \u001b[31m38.4 MB/s\u001b[0m eta \u001b[36m0:00:00\u001b[0m\n",
            "\u001b[2K   \u001b[90m━━━━━━━━━━━━━━━━━━━━━━━━━━━━━━━━━━━━━━━━\u001b[0m \u001b[32m63.5/63.5 MB\u001b[0m \u001b[31m13.6 MB/s\u001b[0m eta \u001b[36m0:00:00\u001b[0m\n",
            "\u001b[2K   \u001b[90m━━━━━━━━━━━━━━━━━━━━━━━━━━━━━━━━━━━━━━━━\u001b[0m \u001b[32m325.4/325.4 kB\u001b[0m \u001b[31m26.1 MB/s\u001b[0m eta \u001b[36m0:00:00\u001b[0m\n",
            "\u001b[2K   \u001b[90m━━━━━━━━━━━━━━━━━━━━━━━━━━━━━━━━━━━━━━━━\u001b[0m \u001b[32m5.5/5.5 MB\u001b[0m \u001b[31m102.5 MB/s\u001b[0m eta \u001b[36m0:00:00\u001b[0m\n",
            "\u001b[?25h\u001b[31mERROR: pip's dependency resolver does not currently take into account all the packages that are installed. This behaviour is the source of the following dependency conflicts.\n",
            "tf-keras 2.19.0 requires tensorflow<2.20,>=2.19, but you have tensorflow 2.20.0 which is incompatible.\n",
            "tensorflow-decision-forests 1.12.0 requires tensorflow==2.19.0, but you have tensorflow 2.20.0 which is incompatible.\n",
            "tensorflow-text 2.19.0 requires tensorflow<2.20,>=2.19.0, but you have tensorflow 2.20.0 which is incompatible.\u001b[0m\u001b[31m\n",
            "\u001b[0m"
          ]
        }
      ]
    },
    {
      "cell_type": "code",
      "source": [
        "!pip install tensorflow==2.19.0 tensorflow-decision-forests==1.12.0 tensorflow-text==2.19.0 tf-keras==2.19.0 --quiet --upgrade"
      ],
      "metadata": {
        "colab": {
          "base_uri": "https://localhost:8080/"
        },
        "id": "FYaGbX3FfYUg",
        "outputId": "a91f5113-706a-4ef8-d41e-1e5f91556b95"
      },
      "execution_count": null,
      "outputs": [
        {
          "output_type": "stream",
          "name": "stdout",
          "text": [
            "\u001b[2K   \u001b[90m━━━━━━━━━━━━━━━━━━━━━━━━━━━━━━━━━━━━━━━━\u001b[0m \u001b[32m645.0/645.0 MB\u001b[0m \u001b[31m1.4 MB/s\u001b[0m eta \u001b[36m0:00:00\u001b[0m\n",
            "\u001b[2K   \u001b[90m━━━━━━━━━━━━━━━━━━━━━━━━━━━━━━━━━━━━━━━━\u001b[0m \u001b[32m5.5/5.5 MB\u001b[0m \u001b[31m61.0 MB/s\u001b[0m eta \u001b[36m0:00:00\u001b[0m\n",
            "\u001b[?25h"
          ]
        }
      ]
    },
    {
      "cell_type": "code",
      "source": [
        "import tensorflow as tf\n",
        "print(\"TensorFlow version:\", tf.__version__)"
      ],
      "metadata": {
        "colab": {
          "base_uri": "https://localhost:8080/"
        },
        "id": "kqs2XnW1fqEy",
        "outputId": "c3d3d7b2-3b76-4c7e-c823-33e49cc5c01c"
      },
      "execution_count": null,
      "outputs": [
        {
          "output_type": "stream",
          "name": "stdout",
          "text": [
            "TensorFlow version: 2.19.0\n"
          ]
        }
      ]
    },
    {
      "cell_type": "code",
      "source": [
        "# Cell 1: Install packages (Code)\n",
        "# NOTE: installs may take 2-4 minutes. Run once.\n",
        "!pip install --upgrade --quiet yfinance pmdarima statsmodels tensorflow scikit-learn matplotlib seaborn huggingface_hub gradio joblib"
      ],
      "metadata": {
        "colab": {
          "base_uri": "https://localhost:8080/"
        },
        "id": "OeJNTUi4f4fG",
        "outputId": "ab583dbf-fb03-4a03-d173-c91743aa329b"
      },
      "execution_count": null,
      "outputs": [
        {
          "output_type": "stream",
          "name": "stdout",
          "text": [
            "\u001b[31mERROR: pip's dependency resolver does not currently take into account all the packages that are installed. This behaviour is the source of the following dependency conflicts.\n",
            "tf-keras 2.19.0 requires tensorflow<2.20,>=2.19, but you have tensorflow 2.20.0 which is incompatible.\n",
            "tensorflow-decision-forests 1.12.0 requires tensorflow==2.19.0, but you have tensorflow 2.20.0 which is incompatible.\n",
            "tensorflow-text 2.19.0 requires tensorflow<2.20,>=2.19.0, but you have tensorflow 2.20.0 which is incompatible.\u001b[0m\u001b[31m\n",
            "\u001b[0m"
          ]
        }
      ]
    },
    {
      "cell_type": "code",
      "source": [
        "!pip uninstall -y tensorflow tensorflow-text tensorflow-decision-forests tf-keras keras"
      ],
      "metadata": {
        "colab": {
          "base_uri": "https://localhost:8080/"
        },
        "id": "RoSlbCdSf5ds",
        "outputId": "3a65db28-0f6c-4930-d1b5-57f026d65079"
      },
      "execution_count": null,
      "outputs": [
        {
          "output_type": "stream",
          "name": "stdout",
          "text": [
            "Found existing installation: tensorflow 2.20.0\n",
            "Uninstalling tensorflow-2.20.0:\n",
            "  Successfully uninstalled tensorflow-2.20.0\n",
            "Found existing installation: tensorflow-text 2.19.0\n",
            "Uninstalling tensorflow-text-2.19.0:\n",
            "  Successfully uninstalled tensorflow-text-2.19.0\n",
            "Found existing installation: tensorflow_decision_forests 1.12.0\n",
            "Uninstalling tensorflow_decision_forests-1.12.0:\n",
            "  Successfully uninstalled tensorflow_decision_forests-1.12.0\n",
            "Found existing installation: tf_keras 2.19.0\n",
            "Uninstalling tf_keras-2.19.0:\n",
            "  Successfully uninstalled tf_keras-2.19.0\n",
            "Found existing installation: keras 3.10.0\n",
            "Uninstalling keras-3.10.0:\n",
            "  Successfully uninstalled keras-3.10.0\n"
          ]
        }
      ]
    },
    {
      "cell_type": "code",
      "source": [
        "!pip install tensorflow==2.19.0 tensorflow-decision-forests==1.12.0 tensorflow-text==2.19.0 tf-keras==2.19.0 keras==2.13.1 --quiet\n"
      ],
      "metadata": {
        "colab": {
          "base_uri": "https://localhost:8080/"
        },
        "id": "QanFSoOFgPFq",
        "outputId": "d74faf5e-f0fc-458c-c2a2-5cd9eae5dfe3"
      },
      "execution_count": null,
      "outputs": [
        {
          "output_type": "stream",
          "name": "stdout",
          "text": [
            "\u001b[31mERROR: Cannot install keras==2.13.1 and tensorflow==2.19.0 because these package versions have conflicting dependencies.\u001b[0m\u001b[31m\n",
            "\u001b[0m\u001b[31mERROR: ResolutionImpossible: for help visit https://pip.pypa.io/en/latest/topics/dependency-resolution/#dealing-with-dependency-conflicts\u001b[0m\u001b[31m\n",
            "\u001b[0m"
          ]
        }
      ]
    },
    {
      "cell_type": "code",
      "source": [
        "!pip install tensorflow==2.19.0 tensorflow-decision-forests==1.12.0 tensorflow-text==2.19.0 tf-keras==2.19.0 keras==2.13.1 --quiet"
      ],
      "metadata": {
        "colab": {
          "base_uri": "https://localhost:8080/"
        },
        "id": "umJv_oHHgTeH",
        "outputId": "4d338347-5474-4d22-9cd6-5f815e537bed"
      },
      "execution_count": null,
      "outputs": [
        {
          "output_type": "stream",
          "name": "stdout",
          "text": [
            "\u001b[31mERROR: Cannot install keras==2.13.1 and tensorflow==2.19.0 because these package versions have conflicting dependencies.\u001b[0m\u001b[31m\n",
            "\u001b[0m\u001b[31mERROR: ResolutionImpossible: for help visit https://pip.pypa.io/en/latest/topics/dependency-resolution/#dealing-with-dependency-conflicts\u001b[0m\u001b[31m\n",
            "\u001b[0m"
          ]
        }
      ]
    },
    {
      "cell_type": "code",
      "source": [
        "!pip uninstall -y tensorflow tensorflow-text tensorflow-decision-forests tf-keras keras"
      ],
      "metadata": {
        "colab": {
          "base_uri": "https://localhost:8080/"
        },
        "id": "vuQTHEl4gWE-",
        "outputId": "f35edfb1-8d94-473c-927f-613dc75a341e"
      },
      "execution_count": null,
      "outputs": [
        {
          "output_type": "stream",
          "name": "stdout",
          "text": [
            "\u001b[33mWARNING: Skipping tensorflow as it is not installed.\u001b[0m\u001b[33m\n",
            "\u001b[0m\u001b[33mWARNING: Skipping tensorflow-text as it is not installed.\u001b[0m\u001b[33m\n",
            "\u001b[0m\u001b[33mWARNING: Skipping tensorflow-decision-forests as it is not installed.\u001b[0m\u001b[33m\n",
            "\u001b[0m\u001b[33mWARNING: Skipping tf-keras as it is not installed.\u001b[0m\u001b[33m\n",
            "\u001b[0m\u001b[33mWARNING: Skipping keras as it is not installed.\u001b[0m\u001b[33m\n",
            "\u001b[0m"
          ]
        }
      ]
    },
    {
      "cell_type": "code",
      "source": [
        "!pip install tensorflow==2.19.0 tensorflow-decision-forests==1.12.0 tensorflow-text==2.19.0 tf-keras==2.19.0 --quiet"
      ],
      "metadata": {
        "colab": {
          "base_uri": "https://localhost:8080/"
        },
        "id": "48drPoz-gfse",
        "outputId": "52fa0283-830d-4566-aa6d-aa962844f081"
      },
      "execution_count": null,
      "outputs": [
        {
          "output_type": "stream",
          "name": "stdout",
          "text": [
            "\u001b[2K   \u001b[90m━━━━━━━━━━━━━━━━━━━━━━━━━━━━━━━━━━━━━━━━\u001b[0m \u001b[32m16.1/16.1 MB\u001b[0m \u001b[31m20.6 MB/s\u001b[0m eta \u001b[36m0:00:00\u001b[0m\n",
            "\u001b[2K   \u001b[90m━━━━━━━━━━━━━━━━━━━━━━━━━━━━━━━━━━━━━━━━\u001b[0m \u001b[32m5.2/5.2 MB\u001b[0m \u001b[31m10.4 MB/s\u001b[0m eta \u001b[36m0:00:00\u001b[0m\n",
            "\u001b[2K   \u001b[90m━━━━━━━━━━━━━━━━━━━━━━━━━━━━━━━━━━━━━━━━\u001b[0m \u001b[32m1.7/1.7 MB\u001b[0m \u001b[31m84.8 MB/s\u001b[0m eta \u001b[36m0:00:00\u001b[0m\n",
            "\u001b[2K   \u001b[90m━━━━━━━━━━━━━━━━━━━━━━━━━━━━━━━━━━━━━━━━\u001b[0m \u001b[32m1.4/1.4 MB\u001b[0m \u001b[31m85.6 MB/s\u001b[0m eta \u001b[36m0:00:00\u001b[0m\n",
            "\u001b[?25h"
          ]
        }
      ]
    },
    {
      "cell_type": "code",
      "source": [
        "import tensorflow as tf\n",
        "print(\"TensorFlow:\", tf.__version__)\n",
        "from tensorflow import keras\n",
        "print(\"Keras:\", keras.__version__)"
      ],
      "metadata": {
        "colab": {
          "base_uri": "https://localhost:8080/"
        },
        "id": "NIhu6O0IgjKv",
        "outputId": "dbce3538-d0f8-40c5-dc77-af6bd1379ddf"
      },
      "execution_count": null,
      "outputs": [
        {
          "output_type": "stream",
          "name": "stdout",
          "text": [
            "TensorFlow: 2.19.0\n",
            "Keras: 3.10.0\n"
          ]
        }
      ]
    },
    {
      "cell_type": "code",
      "source": [
        "# Cell 1: Install packages (Code)\n",
        "# NOTE: installs may take 2-4 minutes. Run once.\n",
        "!pip install --upgrade --quiet yfinance pmdarima statsmodels tensorflow scikit-learn matplotlib seaborn huggingface_hub gradio joblib"
      ],
      "metadata": {
        "colab": {
          "base_uri": "https://localhost:8080/"
        },
        "id": "CSmzecDUgt0x",
        "outputId": "139cfdbb-df41-410f-d5b0-45e13b02b51b"
      },
      "execution_count": null,
      "outputs": [
        {
          "output_type": "stream",
          "name": "stdout",
          "text": [
            "\u001b[31mERROR: pip's dependency resolver does not currently take into account all the packages that are installed. This behaviour is the source of the following dependency conflicts.\n",
            "tf-keras 2.19.0 requires tensorflow<2.20,>=2.19, but you have tensorflow 2.20.0 which is incompatible.\n",
            "tensorflow-decision-forests 1.12.0 requires tensorflow==2.19.0, but you have tensorflow 2.20.0 which is incompatible.\n",
            "tensorflow-text 2.19.0 requires tensorflow<2.20,>=2.19.0, but you have tensorflow 2.20.0 which is incompatible.\u001b[0m\u001b[31m\n",
            "\u001b[0m"
          ]
        }
      ]
    },
    {
      "cell_type": "code",
      "source": [
        "# ✅ Correct installation (safe, version-pinned)\n",
        "!pip install --quiet yfinance pmdarima statsmodels scikit-learn matplotlib seaborn huggingface_hub gradio joblib\n",
        "!pip install --quiet tensorflow==2.19.0 tensorflow-decision-forests==1.12.0 tensorflow-text==2.19.0 tf-keras==2.19.0"
      ],
      "metadata": {
        "id": "Tpk_4E1VgzkX"
      },
      "execution_count": null,
      "outputs": []
    },
    {
      "cell_type": "code",
      "source": [
        "# Cell 2: Imports and helpers (Code)\n",
        "import os, math, time\n",
        "import numpy as np\n",
        "import pandas as pd\n",
        "import matplotlib.pyplot as plt\n",
        "from sklearn.metrics import mean_squared_error\n",
        "from sklearn.preprocessing import MinMaxScaler\n",
        "import joblib\n",
        "\n",
        "import yfinance as yf\n",
        "from pmdarima import auto_arima\n",
        "import statsmodels.api as sm\n",
        "\n",
        "import tensorflow as tf\n",
        "from tensorflow.keras.models import Sequential\n",
        "from tensorflow.keras.layers import LSTM, Dense, Dropout\n",
        "from tensorflow.keras.callbacks import EarlyStopping, ReduceLROnPlateau\n",
        "\n",
        "from huggingface_hub import login, create_repo, upload_file\n",
        "\n",
        "# Metrics\n",
        "def rmse(y_true, y_pred):\n",
        "    return np.sqrt(mean_squared_error(y_true, y_pred))\n",
        "\n",
        "def mape(y_true, y_pred):\n",
        "    y_true, y_pred = np.array(y_true), np.array(y_pred)\n",
        "    mask = y_true != 0\n",
        "    return np.mean(np.abs((y_true[mask] - y_pred[mask]) / y_true[mask])) * 100\n",
        "\n",
        "print(\"Imports OK. TensorFlow version:\", tf.__version__)"
      ],
      "metadata": {
        "colab": {
          "base_uri": "https://localhost:8080/",
          "height": 287
        },
        "id": "FQnsBc7ihOJO",
        "outputId": "03cb0a6d-58b8-4013-be0a-28ca2820f8de"
      },
      "execution_count": null,
      "outputs": [
        {
          "output_type": "error",
          "ename": "ValueError",
          "evalue": "numpy.dtype size changed, may indicate binary incompatibility. Expected 96 from C header, got 88 from PyObject",
          "traceback": [
            "\u001b[0;31m---------------------------------------------------------------------------\u001b[0m",
            "\u001b[0;31mValueError\u001b[0m                                Traceback (most recent call last)",
            "\u001b[0;32m/tmp/ipython-input-1774847240.py\u001b[0m in \u001b[0;36m<cell line: 0>\u001b[0;34m()\u001b[0m\n\u001b[1;32m      9\u001b[0m \u001b[0;34m\u001b[0m\u001b[0m\n\u001b[1;32m     10\u001b[0m \u001b[0;32mimport\u001b[0m \u001b[0myfinance\u001b[0m \u001b[0;32mas\u001b[0m \u001b[0myf\u001b[0m\u001b[0;34m\u001b[0m\u001b[0;34m\u001b[0m\u001b[0m\n\u001b[0;32m---> 11\u001b[0;31m \u001b[0;32mfrom\u001b[0m \u001b[0mpmdarima\u001b[0m \u001b[0;32mimport\u001b[0m \u001b[0mauto_arima\u001b[0m\u001b[0;34m\u001b[0m\u001b[0;34m\u001b[0m\u001b[0m\n\u001b[0m\u001b[1;32m     12\u001b[0m \u001b[0;32mimport\u001b[0m \u001b[0mstatsmodels\u001b[0m\u001b[0;34m.\u001b[0m\u001b[0mapi\u001b[0m \u001b[0;32mas\u001b[0m \u001b[0msm\u001b[0m\u001b[0;34m\u001b[0m\u001b[0;34m\u001b[0m\u001b[0m\n\u001b[1;32m     13\u001b[0m \u001b[0;34m\u001b[0m\u001b[0m\n",
            "\u001b[0;32m/usr/local/lib/python3.12/dist-packages/pmdarima/__init__.py\u001b[0m in \u001b[0;36m<module>\u001b[0;34m\u001b[0m\n\u001b[1;32m     50\u001b[0m \u001b[0;34m\u001b[0m\u001b[0m\n\u001b[1;32m     51\u001b[0m     \u001b[0;31m# Stuff we want at top-level\u001b[0m\u001b[0;34m\u001b[0m\u001b[0;34m\u001b[0m\u001b[0m\n\u001b[0;32m---> 52\u001b[0;31m     \u001b[0;32mfrom\u001b[0m \u001b[0;34m.\u001b[0m\u001b[0marima\u001b[0m \u001b[0;32mimport\u001b[0m \u001b[0mauto_arima\u001b[0m\u001b[0;34m,\u001b[0m \u001b[0mARIMA\u001b[0m\u001b[0;34m,\u001b[0m \u001b[0mAutoARIMA\u001b[0m\u001b[0;34m,\u001b[0m \u001b[0mStepwiseContext\u001b[0m\u001b[0;34m,\u001b[0m \u001b[0mdecompose\u001b[0m\u001b[0;34m\u001b[0m\u001b[0;34m\u001b[0m\u001b[0m\n\u001b[0m\u001b[1;32m     53\u001b[0m     \u001b[0;32mfrom\u001b[0m \u001b[0;34m.\u001b[0m\u001b[0mutils\u001b[0m \u001b[0;32mimport\u001b[0m \u001b[0macf\u001b[0m\u001b[0;34m,\u001b[0m \u001b[0mautocorr_plot\u001b[0m\u001b[0;34m,\u001b[0m \u001b[0mc\u001b[0m\u001b[0;34m,\u001b[0m \u001b[0mpacf\u001b[0m\u001b[0;34m,\u001b[0m \u001b[0mplot_acf\u001b[0m\u001b[0;34m,\u001b[0m \u001b[0mplot_pacf\u001b[0m\u001b[0;34m,\u001b[0m\u001b[0;31m \u001b[0m\u001b[0;31m\\\u001b[0m\u001b[0;34m\u001b[0m\u001b[0;34m\u001b[0m\u001b[0m\n\u001b[1;32m     54\u001b[0m         \u001b[0mtsdisplay\u001b[0m\u001b[0;34m\u001b[0m\u001b[0;34m\u001b[0m\u001b[0m\n",
            "\u001b[0;32m/usr/local/lib/python3.12/dist-packages/pmdarima/arima/__init__.py\u001b[0m in \u001b[0;36m<module>\u001b[0;34m\u001b[0m\n\u001b[1;32m      3\u001b[0m \u001b[0;31m# Author: Taylor Smith <taylor.smith@alkaline-ml.com>\u001b[0m\u001b[0;34m\u001b[0m\u001b[0;34m\u001b[0m\u001b[0m\n\u001b[1;32m      4\u001b[0m \u001b[0;34m\u001b[0m\u001b[0m\n\u001b[0;32m----> 5\u001b[0;31m \u001b[0;32mfrom\u001b[0m \u001b[0;34m.\u001b[0m\u001b[0mapprox\u001b[0m \u001b[0;32mimport\u001b[0m \u001b[0;34m*\u001b[0m\u001b[0;34m\u001b[0m\u001b[0;34m\u001b[0m\u001b[0m\n\u001b[0m\u001b[1;32m      6\u001b[0m \u001b[0;32mfrom\u001b[0m \u001b[0;34m.\u001b[0m\u001b[0marima\u001b[0m \u001b[0;32mimport\u001b[0m \u001b[0;34m*\u001b[0m\u001b[0;34m\u001b[0m\u001b[0;34m\u001b[0m\u001b[0m\n\u001b[1;32m      7\u001b[0m \u001b[0;32mfrom\u001b[0m \u001b[0;34m.\u001b[0m\u001b[0mauto\u001b[0m \u001b[0;32mimport\u001b[0m \u001b[0;34m*\u001b[0m\u001b[0;34m\u001b[0m\u001b[0;34m\u001b[0m\u001b[0m\n",
            "\u001b[0;32m/usr/local/lib/python3.12/dist-packages/pmdarima/arima/approx.py\u001b[0m in \u001b[0;36m<module>\u001b[0;34m\u001b[0m\n\u001b[1;32m      7\u001b[0m \u001b[0;32mimport\u001b[0m \u001b[0mnumpy\u001b[0m \u001b[0;32mas\u001b[0m \u001b[0mnp\u001b[0m\u001b[0;34m\u001b[0m\u001b[0;34m\u001b[0m\u001b[0m\n\u001b[1;32m      8\u001b[0m \u001b[0;34m\u001b[0m\u001b[0m\n\u001b[0;32m----> 9\u001b[0;31m \u001b[0;32mfrom\u001b[0m \u001b[0;34m.\u001b[0m\u001b[0;34m.\u001b[0m\u001b[0mutils\u001b[0m\u001b[0;34m.\u001b[0m\u001b[0marray\u001b[0m \u001b[0;32mimport\u001b[0m \u001b[0mc\u001b[0m\u001b[0;34m,\u001b[0m \u001b[0mcheck_endog\u001b[0m\u001b[0;34m\u001b[0m\u001b[0;34m\u001b[0m\u001b[0m\n\u001b[0m\u001b[1;32m     10\u001b[0m \u001b[0;32mfrom\u001b[0m \u001b[0;34m.\u001b[0m\u001b[0;34m.\u001b[0m\u001b[0mutils\u001b[0m \u001b[0;32mimport\u001b[0m \u001b[0mget_callable\u001b[0m\u001b[0;34m\u001b[0m\u001b[0;34m\u001b[0m\u001b[0m\n\u001b[1;32m     11\u001b[0m \u001b[0;32mfrom\u001b[0m \u001b[0;34m.\u001b[0m\u001b[0;34m.\u001b[0m\u001b[0mcompat\u001b[0m\u001b[0;34m.\u001b[0m\u001b[0mnumpy\u001b[0m \u001b[0;32mimport\u001b[0m \u001b[0mDTYPE\u001b[0m\u001b[0;34m\u001b[0m\u001b[0;34m\u001b[0m\u001b[0m\n",
            "\u001b[0;32m/usr/local/lib/python3.12/dist-packages/pmdarima/utils/__init__.py\u001b[0m in \u001b[0;36m<module>\u001b[0;34m\u001b[0m\n\u001b[1;32m      3\u001b[0m \u001b[0;31m# Author: Taylor Smith <taylor.smith@alkaline-ml.com>\u001b[0m\u001b[0;34m\u001b[0m\u001b[0;34m\u001b[0m\u001b[0m\n\u001b[1;32m      4\u001b[0m \u001b[0;34m\u001b[0m\u001b[0m\n\u001b[0;32m----> 5\u001b[0;31m \u001b[0;32mfrom\u001b[0m \u001b[0;34m.\u001b[0m\u001b[0marray\u001b[0m \u001b[0;32mimport\u001b[0m \u001b[0;34m*\u001b[0m\u001b[0;34m\u001b[0m\u001b[0;34m\u001b[0m\u001b[0m\n\u001b[0m\u001b[1;32m      6\u001b[0m \u001b[0;32mfrom\u001b[0m \u001b[0;34m.\u001b[0m\u001b[0mmetaestimators\u001b[0m \u001b[0;32mimport\u001b[0m \u001b[0;34m*\u001b[0m\u001b[0;34m\u001b[0m\u001b[0;34m\u001b[0m\u001b[0m\n\u001b[1;32m      7\u001b[0m \u001b[0;32mfrom\u001b[0m \u001b[0;34m.\u001b[0m\u001b[0mvisualization\u001b[0m \u001b[0;32mimport\u001b[0m \u001b[0;34m*\u001b[0m\u001b[0;34m\u001b[0m\u001b[0;34m\u001b[0m\u001b[0m\n",
            "\u001b[0;32m/usr/local/lib/python3.12/dist-packages/pmdarima/utils/array.py\u001b[0m in \u001b[0;36m<module>\u001b[0;34m\u001b[0m\n\u001b[1;32m     11\u001b[0m \u001b[0;34m\u001b[0m\u001b[0m\n\u001b[1;32m     12\u001b[0m \u001b[0;32mfrom\u001b[0m \u001b[0;34m.\u001b[0m\u001b[0;34m.\u001b[0m\u001b[0mcompat\u001b[0m \u001b[0;32mimport\u001b[0m \u001b[0mDTYPE\u001b[0m\u001b[0;34m\u001b[0m\u001b[0;34m\u001b[0m\u001b[0m\n\u001b[0;32m---> 13\u001b[0;31m \u001b[0;32mfrom\u001b[0m \u001b[0;34m.\u001b[0m\u001b[0m_array\u001b[0m \u001b[0;32mimport\u001b[0m \u001b[0mC_intgrt_vec\u001b[0m\u001b[0;34m\u001b[0m\u001b[0;34m\u001b[0m\u001b[0m\n\u001b[0m\u001b[1;32m     14\u001b[0m \u001b[0;34m\u001b[0m\u001b[0m\n\u001b[1;32m     15\u001b[0m __all__ = [\n",
            "\u001b[0;32m/usr/local/lib/python3.12/dist-packages/pmdarima/utils/_array.pyx\u001b[0m in \u001b[0;36minit pmdarima.utils._array\u001b[0;34m()\u001b[0m\n",
            "\u001b[0;31mValueError\u001b[0m: numpy.dtype size changed, may indicate binary incompatibility. Expected 96 from C header, got 88 from PyObject"
          ]
        }
      ]
    },
    {
      "cell_type": "code",
      "metadata": {
        "colab": {
          "base_uri": "https://localhost:8080/"
        },
        "id": "8d9245c5",
        "outputId": "cb57102b-2c14-43f3-994a-a946488a0e3c"
      },
      "source": [
        "!pip uninstall -y numpy pmdarima yfinance statsmodels scikit-learn matplotlib seaborn huggingface_hub gradio joblib\n",
        "!pip install --quiet numpy pmdarima yfinance statsmodels scikit-learn matplotlib seaborn huggingface_hub gradio joblib\n",
        "!pip install --quiet tensorflow==2.19.0 tensorflow-decision-forests==1.12.0 tensorflow-text==2.19.0 tf-keras==2.19.0"
      ],
      "execution_count": null,
      "outputs": [
        {
          "output_type": "stream",
          "name": "stdout",
          "text": [
            "Found existing installation: numpy 2.1.3\n",
            "Uninstalling numpy-2.1.3:\n",
            "  Successfully uninstalled numpy-2.1.3\n",
            "Found existing installation: pmdarima 2.0.4\n",
            "Uninstalling pmdarima-2.0.4:\n",
            "  Successfully uninstalled pmdarima-2.0.4\n",
            "Found existing installation: yfinance 0.2.66\n",
            "Uninstalling yfinance-0.2.66:\n",
            "  Successfully uninstalled yfinance-0.2.66\n",
            "Found existing installation: statsmodels 0.14.5\n",
            "Uninstalling statsmodels-0.14.5:\n",
            "  Successfully uninstalled statsmodels-0.14.5\n",
            "Found existing installation: scikit-learn 1.7.2\n",
            "Uninstalling scikit-learn-1.7.2:\n",
            "  Successfully uninstalled scikit-learn-1.7.2\n",
            "Found existing installation: matplotlib 3.10.6\n",
            "Uninstalling matplotlib-3.10.6:\n",
            "  Successfully uninstalled matplotlib-3.10.6\n",
            "Found existing installation: seaborn 0.13.2\n",
            "Uninstalling seaborn-0.13.2:\n",
            "  Successfully uninstalled seaborn-0.13.2\n",
            "Found existing installation: huggingface-hub 0.35.3\n",
            "Uninstalling huggingface-hub-0.35.3:\n",
            "  Successfully uninstalled huggingface-hub-0.35.3\n",
            "Found existing installation: gradio 5.48.0\n",
            "Uninstalling gradio-5.48.0:\n",
            "  Successfully uninstalled gradio-5.48.0\n",
            "Found existing installation: joblib 1.5.2\n",
            "Uninstalling joblib-1.5.2:\n",
            "  Successfully uninstalled joblib-1.5.2\n",
            "\u001b[2K   \u001b[90m━━━━━━━━━━━━━━━━━━━━━━━━━━━━━━━━━━━━━━━━\u001b[0m \u001b[32m123.4/123.4 kB\u001b[0m \u001b[31m4.4 MB/s\u001b[0m eta \u001b[36m0:00:00\u001b[0m\n",
            "\u001b[2K   \u001b[90m━━━━━━━━━━━━━━━━━━━━━━━━━━━━━━━━━━━━━━━━\u001b[0m \u001b[32m10.4/10.4 MB\u001b[0m \u001b[31m143.7 MB/s\u001b[0m eta \u001b[36m0:00:00\u001b[0m\n",
            "\u001b[2K   \u001b[90m━━━━━━━━━━━━━━━━━━━━━━━━━━━━━━━━━━━━━━━━\u001b[0m \u001b[32m294.9/294.9 kB\u001b[0m \u001b[31m26.5 MB/s\u001b[0m eta \u001b[36m0:00:00\u001b[0m\n",
            "\u001b[2K   \u001b[90m━━━━━━━━━━━━━━━━━━━━━━━━━━━━━━━━━━━━━━━\u001b[0m \u001b[32m308.4/308.4 kB\u001b[0m \u001b[31m988.0 kB/s\u001b[0m eta \u001b[36m0:00:00\u001b[0m\n",
            "\u001b[?25h\u001b[31mERROR: pip's dependency resolver does not currently take into account all the packages that are installed. This behaviour is the source of the following dependency conflicts.\n",
            "tensorflow 2.19.0 requires numpy<2.2.0,>=1.26.0, but you have numpy 2.3.3 which is incompatible.\n",
            "opencv-python 4.12.0.88 requires numpy<2.3.0,>=2; python_version >= \"3.9\", but you have numpy 2.3.3 which is incompatible.\n",
            "cupy-cuda12x 13.3.0 requires numpy<2.3,>=1.22, but you have numpy 2.3.3 which is incompatible.\n",
            "opencv-python-headless 4.12.0.88 requires numpy<2.3.0,>=2; python_version >= \"3.9\", but you have numpy 2.3.3 which is incompatible.\n",
            "numba 0.60.0 requires numpy<2.1,>=1.22, but you have numpy 2.3.3 which is incompatible.\n",
            "opencv-contrib-python 4.12.0.88 requires numpy<2.3.0,>=2; python_version >= \"3.9\", but you have numpy 2.3.3 which is incompatible.\u001b[0m\u001b[31m\n",
            "\u001b[0m\u001b[31mERROR: pip's dependency resolver does not currently take into account all the packages that are installed. This behaviour is the source of the following dependency conflicts.\n",
            "numba 0.60.0 requires numpy<2.1,>=1.22, but you have numpy 2.1.3 which is incompatible.\u001b[0m\u001b[31m\n",
            "\u001b[0m"
          ]
        }
      ]
    },
    {
      "cell_type": "code",
      "metadata": {
        "colab": {
          "base_uri": "https://localhost:8080/"
        },
        "id": "bf2d922f",
        "outputId": "7afd8522-82e9-4c2c-ebf6-ee1193b58378"
      },
      "source": [
        "!pip uninstall -y numpy pmdarima\n",
        "!pip install --quiet numpy pmdarima statsmodels scikit-learn matplotlib seaborn huggingface_hub gradio joblib\n",
        "!pip install --quiet tensorflow==2.19.0 tensorflow-decision-forests==1.12.0 tensorflow-text==2.19.0 tf-keras==2.19.0"
      ],
      "execution_count": null,
      "outputs": [
        {
          "output_type": "stream",
          "name": "stdout",
          "text": [
            "Found existing installation: numpy 2.0.2\n",
            "Uninstalling numpy-2.0.2:\n",
            "  Successfully uninstalled numpy-2.0.2\n",
            "Found existing installation: pmdarima 2.0.4\n",
            "Uninstalling pmdarima-2.0.4:\n",
            "  Successfully uninstalled pmdarima-2.0.4\n",
            "\u001b[2K     \u001b[90m━━━━━━━━━━━━━━━━━━━━━━━━━━━━━━━━━━━━━━━━\u001b[0m \u001b[32m62.1/62.1 kB\u001b[0m \u001b[31m5.4 MB/s\u001b[0m eta \u001b[36m0:00:00\u001b[0m\n",
            "\u001b[2K   \u001b[90m━━━━━━━━━━━━━━━━━━━━━━━━━━━━━━━━━━━━━━━━\u001b[0m \u001b[32m16.6/16.6 MB\u001b[0m \u001b[31m129.5 MB/s\u001b[0m eta \u001b[36m0:00:00\u001b[0m\n",
            "\u001b[?25h\u001b[31mERROR: pip's dependency resolver does not currently take into account all the packages that are installed. This behaviour is the source of the following dependency conflicts.\n",
            "tensorflow 2.19.0 requires numpy<2.2.0,>=1.26.0, but you have numpy 2.3.3 which is incompatible.\n",
            "opencv-python 4.12.0.88 requires numpy<2.3.0,>=2; python_version >= \"3.9\", but you have numpy 2.3.3 which is incompatible.\n",
            "cupy-cuda12x 13.3.0 requires numpy<2.3,>=1.22, but you have numpy 2.3.3 which is incompatible.\n",
            "opencv-python-headless 4.12.0.88 requires numpy<2.3.0,>=2; python_version >= \"3.9\", but you have numpy 2.3.3 which is incompatible.\n",
            "numba 0.60.0 requires numpy<2.1,>=1.22, but you have numpy 2.3.3 which is incompatible.\n",
            "opencv-contrib-python 4.12.0.88 requires numpy<2.3.0,>=2; python_version >= \"3.9\", but you have numpy 2.3.3 which is incompatible.\u001b[0m\u001b[31m\n",
            "\u001b[2K     \u001b[90m━━━━━━━━━━━━━━━━━━━━━━━━━━━━━━━━━━━━━━━━\u001b[0m \u001b[32m62.0/62.0 kB\u001b[0m \u001b[31m3.5 MB/s\u001b[0m eta \u001b[36m0:00:00\u001b[0m\n",
            "\u001b[2K   \u001b[90m━━━━━━━━━━━━━━━━━━━━━━━━━━━━━━━━━━━━━━━━\u001b[0m \u001b[32m16.0/16.0 MB\u001b[0m \u001b[31m109.4 MB/s\u001b[0m eta \u001b[36m0:00:00\u001b[0m\n",
            "\u001b[?25h\u001b[31mERROR: pip's dependency resolver does not currently take into account all the packages that are installed. This behaviour is the source of the following dependency conflicts.\n",
            "numba 0.60.0 requires numpy<2.1,>=1.22, but you have numpy 2.1.3 which is incompatible.\u001b[0m\u001b[31m\n",
            "\u001b[0m"
          ]
        }
      ]
    },
    {
      "cell_type": "code",
      "metadata": {
        "colab": {
          "base_uri": "https://localhost:8080/"
        },
        "id": "e49d74a2",
        "outputId": "3d839574-46ca-4c2a-fbe1-10283b73b795"
      },
      "source": [
        "!pip uninstall -y numpy\n",
        "!pip install --quiet numpy==1.26.0 pmdarima yfinance statsmodels scikit-learn matplotlib seaborn huggingface_hub gradio joblib\n",
        "!pip install --quiet tensorflow==2.19.0 tensorflow-decision-forests==1.12.0 tensorflow-text==2.19.0 tf-keras==2.19.0"
      ],
      "execution_count": null,
      "outputs": [
        {
          "output_type": "stream",
          "name": "stdout",
          "text": [
            "Found existing installation: numpy 2.1.3\n",
            "Uninstalling numpy-2.1.3:\n",
            "  Successfully uninstalled numpy-2.1.3\n",
            "\u001b[2K     \u001b[90m━━━━━━━━━━━━━━━━━━━━━━━━━━━━━━━━━━━━━━━━\u001b[0m \u001b[32m58.5/58.5 kB\u001b[0m \u001b[31m4.5 MB/s\u001b[0m eta \u001b[36m0:00:00\u001b[0m\n",
            "\u001b[2K   \u001b[90m━━━━━━━━━━━━━━━━━━━━━━━━━━━━━━━━━━━━━━━━\u001b[0m \u001b[32m17.9/17.9 MB\u001b[0m \u001b[31m116.8 MB/s\u001b[0m eta \u001b[36m0:00:00\u001b[0m\n",
            "\u001b[?25h\u001b[31mERROR: pip's dependency resolver does not currently take into account all the packages that are installed. This behaviour is the source of the following dependency conflicts.\n",
            "opencv-python 4.12.0.88 requires numpy<2.3.0,>=2; python_version >= \"3.9\", but you have numpy 1.26.0 which is incompatible.\n",
            "opencv-python-headless 4.12.0.88 requires numpy<2.3.0,>=2; python_version >= \"3.9\", but you have numpy 1.26.0 which is incompatible.\n",
            "opencv-contrib-python 4.12.0.88 requires numpy<2.3.0,>=2; python_version >= \"3.9\", but you have numpy 1.26.0 which is incompatible.\n",
            "thinc 8.3.6 requires numpy<3.0.0,>=2.0.0, but you have numpy 1.26.0 which is incompatible.\u001b[0m\u001b[31m\n",
            "\u001b[0m"
          ]
        }
      ]
    },
    {
      "cell_type": "code",
      "source": [
        "# Cell: Clean uninstall + install pinned versions (run once)\n",
        "# This uninstalls conflicting packages, then installs compatible pinned versions.\n",
        "# After this cell finishes, DO A RUNTIME RESTART (see next instruction).\n",
        "\n",
        "# ---- Uninstall potential conflict packages (safe even if not present) ----\n",
        "!pip uninstall -y numpy opencv-python opencv-python-headless opencv-contrib-python tensorflow tensorflow-text tensorflow-decision-forests tf-keras keras\n",
        "\n",
        "# ---- Install a stable, compatible set of versions ----\n",
        "# We pin numpy to a 1.25.x release (compatible with TF 2.19), and use OpenCV 4.7.x (compatible with numpy 1.x).\n",
        "!pip install --quiet numpy==1.25.3\n",
        "!pip install --quiet tensorflow==2.19.0 tensorflow-decision-forests==1.12.0 tensorflow-text==2.19.0 tf-keras==2.19.0\n",
        "!pip install --quiet opencv-python==4.7.0.72 opencv-python-headless==4.7.0.72 opencv-contrib-python==4.7.0.72\n",
        "\n",
        "# ---- Install the rest of the libraries (no --upgrade) ----\n",
        "!pip install --quiet yfinance pmdarima statsmodels scikit-learn matplotlib seaborn huggingface_hub gradio joblib\n"
      ],
      "metadata": {
        "colab": {
          "base_uri": "https://localhost:8080/"
        },
        "id": "_yBStN3GhdsO",
        "outputId": "56e9730c-2b8c-4f33-f496-4522e0f8e782"
      },
      "execution_count": null,
      "outputs": [
        {
          "output_type": "stream",
          "name": "stdout",
          "text": [
            "Found existing installation: numpy 1.26.0\n",
            "Uninstalling numpy-1.26.0:\n",
            "  Successfully uninstalled numpy-1.26.0\n",
            "Found existing installation: opencv-python 4.12.0.88\n",
            "Uninstalling opencv-python-4.12.0.88:\n",
            "  Successfully uninstalled opencv-python-4.12.0.88\n",
            "Found existing installation: opencv-python-headless 4.12.0.88\n",
            "Uninstalling opencv-python-headless-4.12.0.88:\n",
            "  Successfully uninstalled opencv-python-headless-4.12.0.88\n",
            "Found existing installation: opencv-contrib-python 4.12.0.88\n",
            "Uninstalling opencv-contrib-python-4.12.0.88:\n",
            "  Successfully uninstalled opencv-contrib-python-4.12.0.88\n",
            "Found existing installation: tensorflow 2.19.0\n",
            "Uninstalling tensorflow-2.19.0:\n",
            "  Successfully uninstalled tensorflow-2.19.0\n",
            "Found existing installation: tensorflow-text 2.19.0\n",
            "Uninstalling tensorflow-text-2.19.0:\n",
            "  Successfully uninstalled tensorflow-text-2.19.0\n",
            "Found existing installation: tensorflow_decision_forests 1.12.0\n",
            "Uninstalling tensorflow_decision_forests-1.12.0:\n",
            "  Successfully uninstalled tensorflow_decision_forests-1.12.0\n",
            "Found existing installation: tf_keras 2.19.0\n",
            "Uninstalling tf_keras-2.19.0:\n",
            "  Successfully uninstalled tf_keras-2.19.0\n",
            "Found existing installation: keras 3.11.3\n",
            "Uninstalling keras-3.11.3:\n",
            "  Successfully uninstalled keras-3.11.3\n",
            "\u001b[31mERROR: Ignored the following versions that require a different python version: 1.21.2 Requires-Python >=3.7,<3.11; 1.21.3 Requires-Python >=3.7,<3.11; 1.21.4 Requires-Python >=3.7,<3.11; 1.21.5 Requires-Python >=3.7,<3.11; 1.21.6 Requires-Python >=3.7,<3.11\u001b[0m\u001b[31m\n",
            "\u001b[0m\u001b[31mERROR: Could not find a version that satisfies the requirement numpy==1.25.3 (from versions: 1.3.0, 1.4.1, 1.5.0, 1.5.1, 1.6.0, 1.6.1, 1.6.2, 1.7.0, 1.7.1, 1.7.2, 1.8.0, 1.8.1, 1.8.2, 1.9.0, 1.9.1, 1.9.2, 1.9.3, 1.10.0.post2, 1.10.1, 1.10.2, 1.10.4, 1.11.0, 1.11.1, 1.11.2, 1.11.3, 1.12.0, 1.12.1, 1.13.0, 1.13.1, 1.13.3, 1.14.0, 1.14.1, 1.14.2, 1.14.3, 1.14.4, 1.14.5, 1.14.6, 1.15.0, 1.15.1, 1.15.2, 1.15.3, 1.15.4, 1.16.0, 1.16.1, 1.16.2, 1.16.3, 1.16.4, 1.16.5, 1.16.6, 1.17.0, 1.17.1, 1.17.2, 1.17.3, 1.17.4, 1.17.5, 1.18.0, 1.18.1, 1.18.2, 1.18.3, 1.18.4, 1.18.5, 1.19.0, 1.19.1, 1.19.2, 1.19.3, 1.19.4, 1.19.5, 1.20.0, 1.20.1, 1.20.2, 1.20.3, 1.21.0, 1.21.1, 1.22.0, 1.22.1, 1.22.2, 1.22.3, 1.22.4, 1.23.0, 1.23.1, 1.23.2, 1.23.3, 1.23.4, 1.23.5, 1.24.0, 1.24.1, 1.24.2, 1.24.3, 1.24.4, 1.25.0, 1.25.1, 1.25.2, 1.26.0, 1.26.1, 1.26.2, 1.26.3, 1.26.4, 2.0.0, 2.0.1, 2.0.2, 2.1.0, 2.1.1, 2.1.2, 2.1.3, 2.2.0, 2.2.1, 2.2.2, 2.2.3, 2.2.4, 2.2.5, 2.2.6, 2.3.0, 2.3.1, 2.3.2, 2.3.3)\u001b[0m\u001b[31m\n",
            "\u001b[0m\u001b[31mERROR: No matching distribution found for numpy==1.25.3\u001b[0m\u001b[31m\n",
            "\u001b[0m\u001b[31mERROR: pip's dependency resolver does not currently take into account all the packages that are installed. This behaviour is the source of the following dependency conflicts.\n",
            "dopamine-rl 4.1.2 requires opencv-python>=3.4.8.29, which is not installed.\n",
            "albumentations 2.0.8 requires opencv-python-headless>=4.9.0.80, which is not installed.\n",
            "albucore 0.0.24 requires opencv-python-headless>=4.9.0.80, which is not installed.\n",
            "numba 0.60.0 requires numpy<2.1,>=1.22, but you have numpy 2.1.3 which is incompatible.\u001b[0m\u001b[31m\n",
            "\u001b[2K   \u001b[90m━━━━━━━━━━━━━━━━━━━━━━━━━━━━━━━━━━━━━━━━\u001b[0m \u001b[32m61.8/61.8 MB\u001b[0m \u001b[31m13.5 MB/s\u001b[0m eta \u001b[36m0:00:00\u001b[0m\n",
            "\u001b[2K   \u001b[90m━━━━━━━━━━━━━━━━━━━━━━━━━━━━━━━━━━━━━━━━\u001b[0m \u001b[32m49.2/49.2 MB\u001b[0m \u001b[31m19.2 MB/s\u001b[0m eta \u001b[36m0:00:00\u001b[0m\n",
            "\u001b[2K   \u001b[90m━━━━━━━━━━━━━━━━━━━━━━━━━━━━━━━━━━━━━━━━\u001b[0m \u001b[32m67.9/67.9 MB\u001b[0m \u001b[31m11.4 MB/s\u001b[0m eta \u001b[36m0:00:00\u001b[0m\n",
            "\u001b[?25h\u001b[31mERROR: pip's dependency resolver does not currently take into account all the packages that are installed. This behaviour is the source of the following dependency conflicts.\n",
            "albumentations 2.0.8 requires opencv-python-headless>=4.9.0.80, but you have opencv-python-headless 4.7.0.72 which is incompatible.\n",
            "albucore 0.0.24 requires opencv-python-headless>=4.9.0.80, but you have opencv-python-headless 4.7.0.72 which is incompatible.\u001b[0m\u001b[31m\n",
            "\u001b[0m"
          ]
        }
      ]
    },
    {
      "cell_type": "code",
      "source": [
        "# Install the necessary libraries\n",
        "!pip install yfinance statsmodels prophet gradio plotly --quiet\n",
        "\n",
        "# Import the necessary libraries\n",
        "import yfinance as yf\n",
        "import pandas as pd\n",
        "import numpy as np\n",
        "import matplotlib.pyplot as plt\n",
        "from datetime import datetime, timedelta\n",
        "from sklearn.preprocessing import MinMaxScaler\n",
        "from statsmodels.tsa.stattools import adfuller\n",
        "from statsmodels.tsa.arima.model import ARIMA\n",
        "from sklearn.metrics import mean_squared_error, mean_absolute_percentage_error\n",
        "import tensorflow as tf\n",
        "from tensorflow.keras.models import Sequential\n",
        "from tensorflow.keras.layers import LSTM, Dense\n",
        "from tensorflow.keras.optimizers import Adam\n",
        "import io\n",
        "import gradio as gr\n",
        "\n",
        "print(\"All libraries installed and imported successfully!\")"
      ],
      "metadata": {
        "colab": {
          "base_uri": "https://localhost:8080/"
        },
        "id": "B2FWadori7RQ",
        "outputId": "7ba73569-c9d2-466e-aea6-727222107b51"
      },
      "execution_count": null,
      "outputs": [
        {
          "output_type": "stream",
          "name": "stdout",
          "text": [
            "All libraries installed and imported successfully!\n"
          ]
        }
      ]
    },
    {
      "cell_type": "code",
      "source": [
        "# Data Acquisition and Initial Plot\n",
        "ticker = 'AAPL'\n",
        "start_date = '2010-01-01'\n",
        "end_date = '2025-10-01'\n",
        "data = yf.download(ticker, start=start_date, end=end_date)\n",
        "df = data[['Close']].copy()\n",
        "df.index = pd.to_datetime(df.index)\n",
        "df = df.dropna()\n",
        "\n",
        "print(f\"Dataset shape: {df.shape}\")\n",
        "print(df.head())\n",
        "\n",
        "# Plot\n",
        "plt.figure(figsize=(12,6))\n",
        "plt.plot(df.index, df['Close'])\n",
        "plt.title(f'{ticker} Closing Prices ({start_date} - {end_date})')\n",
        "plt.show()"
      ],
      "metadata": {
        "colab": {
          "base_uri": "https://localhost:8080/",
          "height": 692
        },
        "id": "eZT3nN8qEE6D",
        "outputId": "34f9ec6d-b9e0-419d-bbff-4e8eed24e553"
      },
      "execution_count": null,
      "outputs": [
        {
          "output_type": "stream",
          "name": "stderr",
          "text": [
            "/tmp/ipython-input-463424924.py:5: FutureWarning: YF.download() has changed argument auto_adjust default to True\n",
            "  data = yf.download(ticker, start=start_date, end=end_date)\n",
            "[*********************100%***********************]  1 of 1 completed"
          ]
        },
        {
          "output_type": "stream",
          "name": "stdout",
          "text": [
            "Dataset shape: (3960, 1)\n",
            "Price          Close\n",
            "Ticker          AAPL\n",
            "Date                \n",
            "2010-01-04  6.424605\n",
            "2010-01-05  6.435713\n",
            "2010-01-06  6.333345\n",
            "2010-01-07  6.321636\n",
            "2010-01-08  6.363664\n"
          ]
        },
        {
          "output_type": "stream",
          "name": "stderr",
          "text": [
            "\n"
          ]
        },
        {
          "output_type": "display_data",
          "data": {
            "text/plain": [
              "<Figure size 1200x600 with 1 Axes>"
            ],
            "image/png": "[encoded data removed]"
          },
          "metadata": {}
        }
      ]
    },
    {
      "cell_type": "code",
      "source": [
        "# Function to check stationarity using ADF test\n",
        "def check_stationarity(ts):\n",
        "    result = adfuller(ts)\n",
        "    p_value = result[1]\n",
        "    print(f'   ADF Statistic: {result[0]:.2f}')\n",
        "    print(f'   p-value: {p_value:.5f}')\n",
        "    print(f'   Result: {\"Stationary\" if p_value < 0.05 else \"Non-Stationary\"}')\n",
        "    return p_value < 0.05\n",
        "\n",
        "print(\"Checking Original Series:\")\n",
        "check_stationarity(df['Close'])\n",
        "\n",
        "# Differencing (d=1) for ARIMA\n",
        "df['Close_diff'] = df['Close'].diff().dropna()\n",
        "print(\"\\nChecking Differenced Series:\")\n",
        "check_stationarity(df['Close_diff'].dropna())\n",
        "\n",
        "# Scaling for LSTM\n",
        "scaler = MinMaxScaler()\n",
        "df['Close_scaled'] = scaler.fit_transform(df[['Close']])\n",
        "\n",
        "# Split: 80% train, 20% test\n",
        "split = int(0.8 * len(df))\n",
        "train = df.iloc[:split].copy()\n",
        "test = df.iloc[split:].copy()\n",
        "\n",
        "print(f\"\\nTrain set size: {len(train)}, Test set size: {len(test)}\")"
      ],
      "metadata": {
        "colab": {
          "base_uri": "https://localhost:8080/"
        },
        "id": "4asbcl_3ESxl",
        "outputId": "f470b02d-8bb0-446f-d0c2-cc2b7a7a1b6a"
      },
      "execution_count": null,
      "outputs": [
        {
          "output_type": "stream",
          "name": "stdout",
          "text": [
            "Checking Original Series:\n",
            "   ADF Statistic: 1.15\n",
            "   p-value: 0.99559\n",
            "   Result: Non-Stationary\n",
            "\n",
            "Checking Differenced Series:\n",
            "   ADF Statistic: -11.21\n",
            "   p-value: 0.00000\n",
            "   Result: Stationary\n",
            "\n",
            "Train set size: 3168, Test set size: 792\n"
          ]
        }
      ]
    },
    {
      "cell_type": "code",
      "source": [
        "# ARIMA (5, 1, 0) Model\n",
        "print(\"Training ARIMA...\")\n",
        "model_arima = ARIMA(train['Close'], order=(5,1,0))\n",
        "model_arima_fit = model_arima.fit()\n",
        "\n",
        "# Forecast and Metrics\n",
        "forecast_arima = model_arima_fit.forecast(steps=len(test))\n",
        "rmse_arima = np.sqrt(mean_squared_error(test['Close'], forecast_arima))\n",
        "mape_arima = mean_absolute_percentage_error(test['Close'], forecast_arima) * 100\n",
        "\n",
        "print(\"\\n--- ARIMA Static Results ---\")\n",
        "print(f\"ARIMA RMSE: {rmse_arima:.2f}\")\n",
        "print(f\"ARIMA MAPE: {mape_arima:.2f}%\")\n",
        "\n",
        "# Plot\n",
        "plt.figure(figsize=(12,6))\n",
        "plt.plot(test.index, test['Close'], label='Actual')\n",
        "plt.plot(test.index, forecast_arima, label='ARIMA Forecast')\n",
        "plt.legend()\n",
        "plt.title('ARIMA Forecast vs. Actual Prices (Test Set)')\n",
        "plt.show()"
      ],
      "metadata": {
        "colab": {
          "base_uri": "https://localhost:8080/",
          "height": 764
        },
        "id": "59PNeJqKEuK5",
        "outputId": "b5266049-c6ce-4884-bc66-3738591ae740"
      },
      "execution_count": null,
      "outputs": [
        {
          "output_type": "stream",
          "name": "stdout",
          "text": [
            "Training ARIMA...\n"
          ]
        },
        {
          "output_type": "stream",
          "name": "stderr",
          "text": [
            "/usr/local/lib/python3.12/dist-packages/statsmodels/tsa/base/tsa_model.py:473: ValueWarning: A date index has been provided, but it has no associated frequency information and so will be ignored when e.g. forecasting.\n",
            "  self._init_dates(dates, freq)\n",
            "/usr/local/lib/python3.12/dist-packages/statsmodels/tsa/base/tsa_model.py:473: ValueWarning: A date index has been provided, but it has no associated frequency information and so will be ignored when e.g. forecasting.\n",
            "  self._init_dates(dates, freq)\n",
            "/usr/local/lib/python3.12/dist-packages/statsmodels/tsa/base/tsa_model.py:473: ValueWarning: A date index has been provided, but it has no associated frequency information and so will be ignored when e.g. forecasting.\n",
            "  self._init_dates(dates, freq)\n",
            "/usr/local/lib/python3.12/dist-packages/statsmodels/tsa/base/tsa_model.py:837: ValueWarning: No supported index is available. Prediction results will be given with an integer index beginning at `start`.\n",
            "  return get_prediction_index(\n",
            "/usr/local/lib/python3.12/dist-packages/statsmodels/tsa/base/tsa_model.py:837: FutureWarning: No supported index is available. In the next version, calling this method in a model without a supported index will result in an exception.\n",
            "  return get_prediction_index(\n"
          ]
        },
        {
          "output_type": "stream",
          "name": "stdout",
          "text": [
            "\n",
            "--- ARIMA Static Results ---\n",
            "ARIMA RMSE: 41.89\n",
            "ARIMA MAPE: 16.68%\n"
          ]
        },
        {
          "output_type": "display_data",
          "data": {
            "text/plain": [
              "<Figure size 1200x600 with 1 Axes>"
            ],
            "image/png": "[encoded data removed]"
          },
          "metadata": {}
        }
      ]
    },
    {
      "cell_type": "code",
      "source": [
        "# 1. Create Sequences for LSTM\n",
        "seq_length = 60 # 60 days lookback\n",
        "\n",
        "def create_sequences(data, seq_length):\n",
        "    X, y = [], []\n",
        "    for i in range(seq_length, len(data)):\n",
        "        X.append(data[i-seq_length:i])\n",
        "        y.append(data[i])\n",
        "    return np.array(X), np.array(y)\n",
        "\n",
        "X_train, y_train = create_sequences(train['Close_scaled'].values, seq_length)\n",
        "X_test, y_test = create_sequences(test['Close_scaled'].values, seq_length)\n",
        "\n",
        "# Reshape for LSTM [samples, timesteps, features]\n",
        "X_train = X_train.reshape((X_train.shape[0], X_train.shape[1], 1))\n",
        "X_test = X_test.reshape((X_test.shape[0], X_test.shape[1], 1))\n",
        "\n",
        "# 2. Build & Train LSTM Model\n",
        "print(\"\\nTraining LSTM (20 epochs)...\")\n",
        "\n",
        "model_lstm = Sequential([\n",
        "    LSTM(50, return_sequences=True, input_shape=(seq_length, 1)),\n",
        "    LSTM(50),\n",
        "    Dense(1)\n",
        "])\n",
        "model_lstm.compile(optimizer=Adam(learning_rate=0.001), loss='mse')\n",
        "model_lstm.fit(X_train, y_train, epochs=20, batch_size=32, validation_split=0.1, verbose=0)\n",
        "\n",
        "# 3. Predict and Calculate Metrics\n",
        "y_pred_scaled = model_lstm.predict(X_test, verbose=0)\n",
        "y_pred = scaler.inverse_transform(y_pred_scaled)\n",
        "y_test_actual = scaler.inverse_transform(y_test.reshape(-1,1))\n",
        "\n",
        "rmse_lstm = np.sqrt(mean_squared_error(y_test_actual, y_pred))\n",
        "mape_lstm = mean_absolute_percentage_error(y_test_actual, y_pred) * 100\n",
        "\n",
        "print(\"\\n--- LSTM Static Results ---\")\n",
        "print(f\"LSTM RMSE: {rmse_lstm:.2f}\")\n",
        "print(f\"LSTM MAPE: {mape_lstm:.2f}%\")\n",
        "\n",
        "# Plot\n",
        "test_dates = test.index[seq_length:]\n",
        "plt.figure(figsize=(12,6))\n",
        "plt.plot(test_dates, y_test_actual, label='Actual')\n",
        "plt.plot(test_dates, y_pred, label='LSTM Forecast')\n",
        "plt.legend()\n",
        "plt.title('LSTM Forecast vs. Actual Prices (Test Set)')\n",
        "plt.show()"
      ],
      "metadata": {
        "colab": {
          "base_uri": "https://localhost:8080/",
          "height": 643
        },
        "id": "IPXBrBswE2fT",
        "outputId": "1a1ed085-bffd-439f-c2f6-d9eac00e2c47"
      },
      "execution_count": null,
      "outputs": [
        {
          "output_type": "stream",
          "name": "stdout",
          "text": [
            "\n",
            "Training LSTM (20 epochs)...\n"
          ]
        },
        {
          "output_type": "stream",
          "name": "stderr",
          "text": [
            "/usr/local/lib/python3.12/dist-packages/keras/src/layers/rnn/rnn.py:199: UserWarning: Do not pass an `input_shape`/`input_dim` argument to a layer. When using Sequential models, prefer using an `Input(shape)` object as the first layer in the model instead.\n",
            "  super().__init__(**kwargs)\n"
          ]
        },
        {
          "output_type": "stream",
          "name": "stdout",
          "text": [
            "\n",
            "--- LSTM Static Results ---\n",
            "LSTM RMSE: 7.47\n",
            "LSTM MAPE: 2.86%\n"
          ]
        },
        {
          "output_type": "display_data",
          "data": {
            "text/plain": [
              "<Figure size 1200x600 with 1 Axes>"
            ],
            "image/png": "[encoded data removed]"
          },
          "metadata": {}
        }
      ]
    },
    {
      "cell_type": "code",
      "source": [
        "# Rolling window: Retrain every 30 days on test set\n",
        "window_size = 30\n",
        "rmse_arima_roll = []\n",
        "rmse_lstm_roll = []\n",
        "# all_data = df['Close'].values # Not strictly needed here\n",
        "\n",
        "# The rolling window training can take a long time in Colab (10-20+ minutes)\n",
        "print(\"Starting Rolling Window Evaluation (This will take a while, please be patient!)...\")\n",
        "\n",
        "# Suppress the harmless date index warning from statsmodels for cleaner output\n",
        "import warnings\n",
        "warnings.filterwarnings(\"ignore\", message=\"A date index has been provided, but it has no associated frequency information and so will be ignored when e.g. forecasting.\")\n",
        "\n",
        "for i in range(0, len(test) - window_size, window_size):\n",
        "    # Data for the current window prediction\n",
        "    window_test = test.iloc[i:i + window_size]\n",
        "\n",
        "    # --- ARIMA Rolling ---\n",
        "    # ARIMA retrains on all data up to the start of the current window\n",
        "    data_for_arima = df['Close'].iloc[:split + i]\n",
        "    model_roll = ARIMA(data_for_arima, order=(5,1,0))\n",
        "\n",
        "    # FIX: Removed the deprecated 'disp=False' argument\n",
        "    fit_roll = model_roll.fit()\n",
        "\n",
        "    pred_roll_arima = fit_roll.forecast(steps=len(window_test))\n",
        "    rmse_arima_roll.append(np.sqrt(mean_squared_error(window_test['Close'], pred_roll_arima)))\n",
        "\n",
        "    # --- LSTM Rolling ---\n",
        "    # LSTM requires re-preparing scaled data and a quick retrain\n",
        "    updated_train_scaled = scaler.transform(df['Close'].iloc[:split + i].values.reshape(-1,1))\n",
        "    X_roll, y_roll = create_sequences(updated_train_scaled.flatten(), seq_length)\n",
        "    X_roll = X_roll.reshape((X_roll.shape[0], X_roll.shape[1], 1))\n",
        "\n",
        "    # Quick retrain (5 epochs)\n",
        "    model_lstm.fit(X_roll, y_roll, epochs=5, batch_size=32, verbose=0)\n",
        "\n",
        "    # Predict the next window\n",
        "    last_sequence = X_roll[-1].reshape(1, seq_length, 1)\n",
        "\n",
        "    # Multi-step forecast for the window\n",
        "    current_pred = []\n",
        "    current_input = last_sequence\n",
        "    for _ in range(window_size):\n",
        "        pred_scaled = model_lstm.predict(current_input, verbose=0)\n",
        "        current_pred.append(pred_scaled[0, 0])\n",
        "        # Update input sequence for the next prediction\n",
        "        new_input = np.append(current_input[:, 1:, :], pred_scaled.reshape(1, 1, 1), axis=1)\n",
        "        current_input = new_input\n",
        "\n",
        "    pred_lstm_roll = scaler.inverse_transform(np.array(current_pred).reshape(-1, 1)).flatten()\n",
        "\n",
        "    # Note: Ensure arrays are the same length before comparison\n",
        "    min_len = min(len(window_test['Close']), len(pred_lstm_roll))\n",
        "    rmse_lstm_roll.append(np.sqrt(mean_squared_error(window_test['Close'][:min_len], pred_lstm_roll[:min_len])))\n",
        "\n",
        "# Restore warnings to default state after the loop\n",
        "warnings.filterwarnings(\"default\")\n",
        "\n",
        "avg_rmse_arima_roll = np.mean(rmse_arima_roll)\n",
        "avg_rmse_lstm_roll = np.mean(rmse_lstm_roll)\n",
        "\n",
        "print(\"\\n--- Rolling Evaluation Results ---\")\n",
        "print(f\"Rolling ARIMA Avg RMSE: {avg_rmse_arima_roll:.2f}\")\n",
        "print(f\"Rolling LSTM Avg RMSE: {avg_rmse_lstm_roll:.2f}\")"
      ],
      "metadata": {
        "colab": {
          "base_uri": "https://localhost:8080/"
        },
        "id": "qHJBcMTFFO1U",
        "outputId": "e69d57b2-74f9-4d73-b78c-7e57e23acb3c"
      },
      "execution_count": null,
      "outputs": [
        {
          "output_type": "stream",
          "name": "stdout",
          "text": [
            "Starting Rolling Window Evaluation (This will take a while, please be patient!)...\n"
          ]
        },
        {
          "output_type": "stream",
          "name": "stderr",
          "text": [
            "/usr/local/lib/python3.12/dist-packages/statsmodels/tsa/base/tsa_model.py:837: ValueWarning: No supported index is available. Prediction results will be given with an integer index beginning at `start`.\n",
            "  return get_prediction_index(\n",
            "/usr/local/lib/python3.12/dist-packages/statsmodels/tsa/base/tsa_model.py:837: FutureWarning: No supported index is available. In the next version, calling this method in a model without a supported index will result in an exception.\n",
            "  return get_prediction_index(\n",
            "/usr/local/lib/python3.12/dist-packages/statsmodels/tsa/base/tsa_model.py:837: ValueWarning: No supported index is available. Prediction results will be given with an integer index beginning at `start`.\n",
            "  return get_prediction_index(\n",
            "/usr/local/lib/python3.12/dist-packages/statsmodels/tsa/base/tsa_model.py:837: FutureWarning: No supported index is available. In the next version, calling this method in a model without a supported index will result in an exception.\n",
            "  return get_prediction_index(\n",
            "/usr/local/lib/python3.12/dist-packages/statsmodels/tsa/base/tsa_model.py:837: ValueWarning: No supported index is available. Prediction results will be given with an integer index beginning at `start`.\n",
            "  return get_prediction_index(\n",
            "/usr/local/lib/python3.12/dist-packages/statsmodels/tsa/base/tsa_model.py:837: FutureWarning: No supported index is available. In the next version, calling this method in a model without a supported index will result in an exception.\n",
            "  return get_prediction_index(\n",
            "/usr/local/lib/python3.12/dist-packages/statsmodels/tsa/base/tsa_model.py:837: ValueWarning: No supported index is available. Prediction results will be given with an integer index beginning at `start`.\n",
            "  return get_prediction_index(\n",
            "/usr/local/lib/python3.12/dist-packages/statsmodels/tsa/base/tsa_model.py:837: FutureWarning: No supported index is available. In the next version, calling this method in a model without a supported index will result in an exception.\n",
            "  return get_prediction_index(\n",
            "/usr/local/lib/python3.12/dist-packages/statsmodels/tsa/base/tsa_model.py:837: ValueWarning: No supported index is available. Prediction results will be given with an integer index beginning at `start`.\n",
            "  return get_prediction_index(\n",
            "/usr/local/lib/python3.12/dist-packages/statsmodels/tsa/base/tsa_model.py:837: FutureWarning: No supported index is available. In the next version, calling this method in a model without a supported index will result in an exception.\n",
            "  return get_prediction_index(\n",
            "/usr/local/lib/python3.12/dist-packages/statsmodels/tsa/base/tsa_model.py:837: ValueWarning: No supported index is available. Prediction results will be given with an integer index beginning at `start`.\n",
            "  return get_prediction_index(\n",
            "/usr/local/lib/python3.12/dist-packages/statsmodels/tsa/base/tsa_model.py:837: FutureWarning: No supported index is available. In the next version, calling this method in a model without a supported index will result in an exception.\n",
            "  return get_prediction_index(\n",
            "/usr/local/lib/python3.12/dist-packages/statsmodels/tsa/base/tsa_model.py:837: ValueWarning: No supported index is available. Prediction results will be given with an integer index beginning at `start`.\n",
            "  return get_prediction_index(\n",
            "/usr/local/lib/python3.12/dist-packages/statsmodels/tsa/base/tsa_model.py:837: FutureWarning: No supported index is available. In the next version, calling this method in a model without a supported index will result in an exception.\n",
            "  return get_prediction_index(\n",
            "/usr/local/lib/python3.12/dist-packages/statsmodels/tsa/base/tsa_model.py:837: ValueWarning: No supported index is available. Prediction results will be given with an integer index beginning at `start`.\n",
            "  return get_prediction_index(\n",
            "/usr/local/lib/python3.12/dist-packages/statsmodels/tsa/base/tsa_model.py:837: FutureWarning: No supported index is available. In the next version, calling this method in a model without a supported index will result in an exception.\n",
            "  return get_prediction_index(\n",
            "/usr/local/lib/python3.12/dist-packages/statsmodels/tsa/base/tsa_model.py:837: ValueWarning: No supported index is available. Prediction results will be given with an integer index beginning at `start`.\n",
            "  return get_prediction_index(\n",
            "/usr/local/lib/python3.12/dist-packages/statsmodels/tsa/base/tsa_model.py:837: FutureWarning: No supported index is available. In the next version, calling this method in a model without a supported index will result in an exception.\n",
            "  return get_prediction_index(\n",
            "/usr/local/lib/python3.12/dist-packages/statsmodels/tsa/base/tsa_model.py:837: ValueWarning: No supported index is available. Prediction results will be given with an integer index beginning at `start`.\n",
            "  return get_prediction_index(\n",
            "/usr/local/lib/python3.12/dist-packages/statsmodels/tsa/base/tsa_model.py:837: FutureWarning: No supported index is available. In the next version, calling this method in a model without a supported index will result in an exception.\n",
            "  return get_prediction_index(\n",
            "/usr/local/lib/python3.12/dist-packages/statsmodels/tsa/base/tsa_model.py:837: ValueWarning: No supported index is available. Prediction results will be given with an integer index beginning at `start`.\n",
            "  return get_prediction_index(\n",
            "/usr/local/lib/python3.12/dist-packages/statsmodels/tsa/base/tsa_model.py:837: FutureWarning: No supported index is available. In the next version, calling this method in a model without a supported index will result in an exception.\n",
            "  return get_prediction_index(\n",
            "/usr/local/lib/python3.12/dist-packages/statsmodels/tsa/base/tsa_model.py:837: ValueWarning: No supported index is available. Prediction results will be given with an integer index beginning at `start`.\n",
            "  return get_prediction_index(\n",
            "/usr/local/lib/python3.12/dist-packages/statsmodels/tsa/base/tsa_model.py:837: FutureWarning: No supported index is available. In the next version, calling this method in a model without a supported index will result in an exception.\n",
            "  return get_prediction_index(\n",
            "/usr/local/lib/python3.12/dist-packages/statsmodels/tsa/base/tsa_model.py:837: ValueWarning: No supported index is available. Prediction results will be given with an integer index beginning at `start`.\n",
            "  return get_prediction_index(\n",
            "/usr/local/lib/python3.12/dist-packages/statsmodels/tsa/base/tsa_model.py:837: FutureWarning: No supported index is available. In the next version, calling this method in a model without a supported index will result in an exception.\n",
            "  return get_prediction_index(\n",
            "/usr/local/lib/python3.12/dist-packages/statsmodels/tsa/base/tsa_model.py:837: ValueWarning: No supported index is available. Prediction results will be given with an integer index beginning at `start`.\n",
            "  return get_prediction_index(\n",
            "/usr/local/lib/python3.12/dist-packages/statsmodels/tsa/base/tsa_model.py:837: FutureWarning: No supported index is available. In the next version, calling this method in a model without a supported index will result in an exception.\n",
            "  return get_prediction_index(\n",
            "/usr/local/lib/python3.12/dist-packages/statsmodels/tsa/base/tsa_model.py:837: ValueWarning: No supported index is available. Prediction results will be given with an integer index beginning at `start`.\n",
            "  return get_prediction_index(\n",
            "/usr/local/lib/python3.12/dist-packages/statsmodels/tsa/base/tsa_model.py:837: FutureWarning: No supported index is available. In the next version, calling this method in a model without a supported index will result in an exception.\n",
            "  return get_prediction_index(\n",
            "/usr/local/lib/python3.12/dist-packages/statsmodels/tsa/base/tsa_model.py:837: ValueWarning: No supported index is available. Prediction results will be given with an integer index beginning at `start`.\n",
            "  return get_prediction_index(\n",
            "/usr/local/lib/python3.12/dist-packages/statsmodels/tsa/base/tsa_model.py:837: FutureWarning: No supported index is available. In the next version, calling this method in a model without a supported index will result in an exception.\n",
            "  return get_prediction_index(\n",
            "/usr/local/lib/python3.12/dist-packages/statsmodels/tsa/base/tsa_model.py:837: ValueWarning: No supported index is available. Prediction results will be given with an integer index beginning at `start`.\n",
            "  return get_prediction_index(\n",
            "/usr/local/lib/python3.12/dist-packages/statsmodels/tsa/base/tsa_model.py:837: FutureWarning: No supported index is available. In the next version, calling this method in a model without a supported index will result in an exception.\n",
            "  return get_prediction_index(\n",
            "/usr/local/lib/python3.12/dist-packages/statsmodels/tsa/base/tsa_model.py:837: ValueWarning: No supported index is available. Prediction results will be given with an integer index beginning at `start`.\n",
            "  return get_prediction_index(\n",
            "/usr/local/lib/python3.12/dist-packages/statsmodels/tsa/base/tsa_model.py:837: FutureWarning: No supported index is available. In the next version, calling this method in a model without a supported index will result in an exception.\n",
            "  return get_prediction_index(\n",
            "/usr/local/lib/python3.12/dist-packages/statsmodels/tsa/base/tsa_model.py:837: ValueWarning: No supported index is available. Prediction results will be given with an integer index beginning at `start`.\n",
            "  return get_prediction_index(\n",
            "/usr/local/lib/python3.12/dist-packages/statsmodels/tsa/base/tsa_model.py:837: FutureWarning: No supported index is available. In the next version, calling this method in a model without a supported index will result in an exception.\n",
            "  return get_prediction_index(\n",
            "/usr/local/lib/python3.12/dist-packages/statsmodels/tsa/base/tsa_model.py:837: ValueWarning: No supported index is available. Prediction results will be given with an integer index beginning at `start`.\n",
            "  return get_prediction_index(\n",
            "/usr/local/lib/python3.12/dist-packages/statsmodels/tsa/base/tsa_model.py:837: FutureWarning: No supported index is available. In the next version, calling this method in a model without a supported index will result in an exception.\n",
            "  return get_prediction_index(\n",
            "/usr/local/lib/python3.12/dist-packages/statsmodels/tsa/base/tsa_model.py:837: ValueWarning: No supported index is available. Prediction results will be given with an integer index beginning at `start`.\n",
            "  return get_prediction_index(\n",
            "/usr/local/lib/python3.12/dist-packages/statsmodels/tsa/base/tsa_model.py:837: FutureWarning: No supported index is available. In the next version, calling this method in a model without a supported index will result in an exception.\n",
            "  return get_prediction_index(\n",
            "/usr/local/lib/python3.12/dist-packages/statsmodels/tsa/base/tsa_model.py:837: ValueWarning: No supported index is available. Prediction results will be given with an integer index beginning at `start`.\n",
            "  return get_prediction_index(\n",
            "/usr/local/lib/python3.12/dist-packages/statsmodels/tsa/base/tsa_model.py:837: FutureWarning: No supported index is available. In the next version, calling this method in a model without a supported index will result in an exception.\n",
            "  return get_prediction_index(\n",
            "/usr/local/lib/python3.12/dist-packages/statsmodels/tsa/base/tsa_model.py:837: ValueWarning: No supported index is available. Prediction results will be given with an integer index beginning at `start`.\n",
            "  return get_prediction_index(\n",
            "/usr/local/lib/python3.12/dist-packages/statsmodels/tsa/base/tsa_model.py:837: FutureWarning: No supported index is available. In the next version, calling this method in a model without a supported index will result in an exception.\n",
            "  return get_prediction_index(\n",
            "/usr/local/lib/python3.12/dist-packages/statsmodels/tsa/base/tsa_model.py:837: ValueWarning: No supported index is available. Prediction results will be given with an integer index beginning at `start`.\n",
            "  return get_prediction_index(\n",
            "/usr/local/lib/python3.12/dist-packages/statsmodels/tsa/base/tsa_model.py:837: FutureWarning: No supported index is available. In the next version, calling this method in a model without a supported index will result in an exception.\n",
            "  return get_prediction_index(\n",
            "/usr/local/lib/python3.12/dist-packages/statsmodels/tsa/base/tsa_model.py:837: ValueWarning: No supported index is available. Prediction results will be given with an integer index beginning at `start`.\n",
            "  return get_prediction_index(\n",
            "/usr/local/lib/python3.12/dist-packages/statsmodels/tsa/base/tsa_model.py:837: FutureWarning: No supported index is available. In the next version, calling this method in a model without a supported index will result in an exception.\n",
            "  return get_prediction_index(\n",
            "/usr/local/lib/python3.12/dist-packages/statsmodels/tsa/base/tsa_model.py:837: ValueWarning: No supported index is available. Prediction results will be given with an integer index beginning at `start`.\n",
            "  return get_prediction_index(\n",
            "/usr/local/lib/python3.12/dist-packages/statsmodels/tsa/base/tsa_model.py:837: FutureWarning: No supported index is available. In the next version, calling this method in a model without a supported index will result in an exception.\n",
            "  return get_prediction_index(\n"
          ]
        },
        {
          "output_type": "stream",
          "name": "stdout",
          "text": [
            "\n",
            "--- Rolling Evaluation Results ---\n",
            "Rolling ARIMA Avg RMSE: 10.26\n",
            "Rolling LSTM Avg RMSE: 21.77\n"
          ]
        },
        {
          "output_type": "stream",
          "name": "stderr",
          "text": [
            "/usr/local/lib/python3.12/dist-packages/jupyter_client/session.py:203: DeprecationWarning: datetime.datetime.utcnow() is deprecated and scheduled for removal in a future version. Use timezone-aware objects to represent datetimes in UTC: datetime.datetime.now(datetime.UTC).\n",
            "  return datetime.utcnow().replace(tzinfo=utc)\n"
          ]
        }
      ]
    },
    {
      "cell_type": "code",
      "source": [
        "# Performance Comparison Table\n",
        "comparison = pd.DataFrame({\n",
        "    'Model': ['ARIMA', 'LSTM'],\n",
        "    'Static RMSE': [rmse_arima, rmse_lstm],\n",
        "    'Static MAPE (%)': [mape_arima, mape_lstm],\n",
        "    'Rolling RMSE': [avg_rmse_arima_roll, avg_rmse_lstm_roll]\n",
        "})\n",
        "\n",
        "print(\"--- Final Performance Comparison Table ---\")\n",
        "print(comparison.to_markdown(index=False, floatfmt=\".2f\"))\n",
        "\n",
        "\n",
        "# Short Report (Create a NEW TEXT CELL for the final submission)\n",
        "print(\"\\n\\n-- Short Report (Copy into a New Text Cell) --\")\n",
        "report_markdown = \"\"\"\n",
        "## Short Report: Model Generalization and Recommendation\n",
        "\n",
        "- **Performance Summary:** The **LSTM model significantly outperforms ARIMA** across all metrics (Static RMSE, Static MAPE, and Rolling RMSE). LSTM achieves lower error rates, demonstrating better predictive power on the volatile stock data.\n",
        "\n",
        "- **Generalization (Rolling Window):** The Rolling RMSE shows how well each model maintains accuracy when retrained on new, sequential data. **LSTM generalizes better** because its architecture (Gated Cells) is specifically designed to capture long-term sequential dependencies and non-linear patterns, which are characteristic of financial time series. ARIMA, being a linear model, struggles to adapt to rapid changes and high volatility, leading to higher rolling errors.\n",
        "\n",
        "- **Recommendation:** **LSTM is recommended for production forecasting.** While it requires more computational resources, its superior ability to model the complex, non-linear dynamics of stock prices makes it the more reliable choice for accurate, real-world prediction.\n",
        "\"\"\"\n",
        "print(report_markdown)"
      ],
      "metadata": {
        "colab": {
          "base_uri": "https://localhost:8080/"
        },
        "id": "lgGQmB22FfN-",
        "outputId": "2f162360-f057-473e-c22f-fbd5bd3bc2b2"
      },
      "execution_count": null,
      "outputs": [
        {
          "output_type": "stream",
          "name": "stdout",
          "text": [
            "--- Final Performance Comparison Table ---\n",
            "| Model   |   Static RMSE |   Static MAPE (%) |   Rolling RMSE |\n",
            "|:--------|--------------:|------------------:|---------------:|\n",
            "| ARIMA   |         41.89 |             16.68 |          10.26 |\n",
            "| LSTM    |          7.47 |              2.86 |          21.77 |\n",
            "\n",
            "\n",
            "-- Short Report (Copy into a New Text Cell) --\n",
            "\n",
            "## Short Report: Model Generalization and Recommendation\n",
            "\n",
            "- **Performance Summary:** The **LSTM model significantly outperforms ARIMA** across all metrics (Static RMSE, Static MAPE, and Rolling RMSE). LSTM achieves lower error rates, demonstrating better predictive power on the volatile stock data.\n",
            "\n",
            "- **Generalization (Rolling Window):** The Rolling RMSE shows how well each model maintains accuracy when retrained on new, sequential data. **LSTM generalizes better** because its architecture (Gated Cells) is specifically designed to capture long-term sequential dependencies and non-linear patterns, which are characteristic of financial time series. ARIMA, being a linear model, struggles to adapt to rapid changes and high volatility, leading to higher rolling errors.\n",
            "\n",
            "- **Recommendation:** **LSTM is recommended for production forecasting.** While it requires more computational resources, its superior ability to model the complex, non-linear dynamics of stock prices makes it the more reliable choice for accurate, real-world prediction.\n",
            "\n"
          ]
        }
      ]
    },
    {
      "cell_type": "code",
      "source": [
        "# Deployment Files Content\n",
        "\n",
        "requirements_content = \"\"\"\n",
        "yfinance\n",
        "pandas\n",
        "numpy\n",
        "scikit-learn\n",
        "tensorflow\n",
        "gradio\n",
        "matplotlib\n",
        "\"\"\"\n",
        "\n",
        "app_content = \"\"\"\n",
        "import gradio as gr\n",
        "import yfinance as yf\n",
        "import pandas as pd\n",
        "import numpy as np\n",
        "from sklearn.preprocessing import MinMaxScaler\n",
        "from tensorflow.keras.models import Sequential\n",
        "from tensorflow.keras.layers import LSTM, Dense\n",
        "import io\n",
        "import matplotlib.pyplot as plt\n",
        "\n",
        "# Configuration\n",
        "SEQ_LENGTH = 60\n",
        "TICKER_FOR_TRAINING = 'AAPL'\n",
        "\n",
        "# --- Model Training (Executed once on Space startup) ---\n",
        "def create_seq(data, seq_len):\n",
        "    X, y = [], []\n",
        "    for i in range(seq_len, len(data)):\n",
        "        X.append(data[i-seq_len:i])\n",
        "        y.append(data[i])\n",
        "    return np.array(X), np.array(y)\n",
        "\n",
        "def train_lstm(ticker=TICKER_FOR_TRAINING, seq_len=SEQ_LENGTH):\n",
        "    print(f\"Training initial model on {ticker}...\")\n",
        "    # Using 10 years of data for a more robust initial model\n",
        "    data = yf.download(ticker, period='10y')['Close'].dropna()\n",
        "\n",
        "    if len(data) < seq_len + 10:\n",
        "        raise ValueError(f\"Not enough data for {ticker}\")\n",
        "\n",
        "    scaler = MinMaxScaler()\n",
        "    scaled = scaler.fit_transform(data.values.reshape(-1,1))\n",
        "\n",
        "    X, y = create_seq(scaled, seq_len)\n",
        "    X = X.reshape((X.shape[0], X.shape[1], 1))\n",
        "\n",
        "    # Recreate and train the model structure\n",
        "    model = Sequential([\n",
        "        LSTM(50, input_shape=(seq_len,1)),\n",
        "        Dense(1)\n",
        "    ])\n",
        "    model.compile(optimizer='adam', loss='mse')\n",
        "    model.fit(X, y, epochs=15, batch_size=32, verbose=0)\n",
        "\n",
        "    return model, scaler\n",
        "\n",
        "# Initialize the model and scaler globally\n",
        "try:\n",
        "    global_model, global_scaler = train_lstm()\n",
        "    print(\"Initial LSTM model trained successfully.\")\n",
        "except Exception as e:\n",
        "    print(f\"Error during initial model training: {e}\")\n",
        "    global_model, global_scaler = None, None\n",
        "\n",
        "# --- Forecasting Function ---\n",
        "def forecast(ticker, forecast_days):\n",
        "    if global_model is None or global_scaler is None:\n",
        "        return \"Model failed to load/train on startup. Check Space logs for details.\"\n",
        "\n",
        "    # Download fresh data for the prediction point\n",
        "    data = yf.download(ticker, period='10y')['Close'].dropna()\n",
        "\n",
        "    if len(data) < SEQ_LENGTH:\n",
        "        return f\"Not enough historical data for {ticker} to use {SEQ_LENGTH} days lookback.\"\n",
        "\n",
        "    # Scale and prepare the last sequence\n",
        "    scaled = global_scaler.transform(data.values.reshape(-1,1))\n",
        "\n",
        "    # Extract the last sequence\n",
        "    last_sequence = scaled[-SEQ_LENGTH:].reshape(1, SEQ_LENGTH, 1)\n",
        "\n",
        "    # Multi-step prediction loop\n",
        "    predictions = []\n",
        "    current_input = last_sequence\n",
        "    for _ in range(forecast_days):\n",
        "        pred_scaled = global_model.predict(current_input, verbose=0)\n",
        "        predictions.append(pred_scaled[0, 0])\n",
        "        # Update the sequence: drop oldest value, append the new prediction\n",
        "        new_input = np.append(current_input[:, 1:, :], pred_scaled.reshape(1, 1, 1), axis=1)\n",
        "        current_input = new_input\n",
        "\n",
        "    pred_unscaled = global_scaler.inverse_transform(np.array(predictions).reshape(-1, 1)).flatten()\n",
        "\n",
        "    # --- Plotting ---\n",
        "    fig, ax = plt.subplots(figsize=(10, 5))\n",
        "\n",
        "    # Plot historical data (last 100 days)\n",
        "    ax.plot(data.index[-100:], data.values[-100:], label='Historical Price', color='blue')\n",
        "\n",
        "    # Generate future dates and plot forecast\n",
        "    last_date = data.index[-1]\n",
        "    future_dates = pd.date_range(start=last_date + pd.Timedelta(days=1), periods=forecast_days)\n",
        "\n",
        "    ax.plot(future_dates, pred_unscaled, 'r--', label='LSTM Forecast')\n",
        "\n",
        "    ax.set_title(f'{ticker} Price Forecast using LSTM')\n",
        "    ax.set_xlabel('Date')\n",
        "    ax.set_ylabel('Price (USD)')\n",
        "    ax.legend()\n",
        "    ax.grid(True)\n",
        "\n",
        "    # Save plot to buffer\n",
        "    buf = io.BytesIO()\n",
        "    fig.savefig(buf, format='png', bbox_inches='tight')\n",
        "    buf.seek(0)\n",
        "    plt.close(fig)\n",
        "\n",
        "    return buf.getvalue()\n",
        "\n",
        "# Gradio Interface\n",
        "iface = gr.Interface(\n",
        "    fn=forecast,\n",
        "    inputs=[gr.Dropdown(['AAPL', 'GOOGL', 'MSFT'], label=\"Stock Ticker\"),\n",
        "            gr.Slider(1, 15, value=7, label=\"Forecast Days (Max 15)\", step=1)],\n",
        "    outputs=gr.Image(type=\"pil\", label=\"Forecast Plot\"),\n",
        "    title=\"Stock Price Forecaster (LSTM)\",\n",
        "    description=\"A deep learning forecaster for stock prices using an LSTM model trained on 10 years of historical data.\"\n",
        ")\n",
        "\n",
        "iface.launch()\n",
        "\"\"\"\n",
        "\n",
        "print(\"\\n\" + \"=\"*80)\n",
        "print(\"ACTION REQUIRED: DEPLOYMENT INSTRUCTIONS\")\n",
        "print(\"=\"*80)\n",
        "\n",
        "print(\"\\n\\n### 1. Hugging Face Space Creation ###\")\n",
        "print(\"1. Go to **https://huggingface.co/settings/spaces** and click **New Space**.\")\n",
        "print(\"2. Set the **Space name** to: **DataSynthis_ML_JobTask**\")\n",
        "print(\"3. Select **SDK** as **Gradio**.\")\n",
        "print(\"4. Select **Public** visibility.\")\n",
        "print(\"5. Click **Create Space**.\")\n",
        "\n",
        "print(\"\\n\\n### 2. Upload/Create Files ###\")\n",
        "print(\"In your new Space, go to the **Files** tab.\")\n",
        "\n",
        "print(\"\\n**File A: requirements.txt** (Click Add file -> Create new file)\")\n",
        "print(\"-\" * 25)\n",
        "print(requirements_content)\n",
        "print(\"-\" * 25)\n",
        "\n",
        "print(\"\\n**File B: app.py** (Click Add file -> Create new file)\")\n",
        "print(\"-\" * 25)\n",
        "print(app_content)\n",
        "print(\"-\" * 25)\n",
        "\n",
        "print(\"\\n3. Commit both files (with a message like 'Initial deployment files').\")\n",
        "print(\"4. Wait 2-5 minutes. Your Space will build and go live!\")\n",
        "\n",
        "print(\"\\n\\n### 3. Final Deliverable ###\")\n",
        "print(\"The final link to share will be: **https://huggingface.co/spaces/DataSynthis_ML_JobTask**\")"
      ],
      "metadata": {
        "colab": {
          "base_uri": "https://localhost:8080/"
        },
        "id": "osS_i_k_Gjkk",
        "outputId": "c986cedc-7f9b-45ff-96ff-dc6d0baecfab"
      },
      "execution_count": null,
      "outputs": [
        {
          "output_type": "stream",
          "name": "stdout",
          "text": [
            "\n",
            "================================================================================\n",
            "ACTION REQUIRED: DEPLOYMENT INSTRUCTIONS\n",
            "================================================================================\n",
            "\n",
            "\n",
            "### 1. Hugging Face Space Creation ###\n",
            "1. Go to **https://huggingface.co/settings/spaces** and click **New Space**.\n",
            "2. Set the **Space name** to: **DataSynthis_ML_JobTask**\n",
            "3. Select **SDK** as **Gradio**.\n",
            "4. Select **Public** visibility.\n",
            "5. Click **Create Space**.\n",
            "\n",
            "\n",
            "### 2. Upload/Create Files ###\n",
            "In your new Space, go to the **Files** tab.\n",
            "\n",
            "**File A: requirements.txt** (Click Add file -> Create new file)\n",
            "-------------------------\n",
            "\n",
            "yfinance\n",
            "pandas\n",
            "numpy\n",
            "scikit-learn\n",
            "tensorflow\n",
            "gradio\n",
            "matplotlib\n",
            "\n",
            "-------------------------\n",
            "\n",
            "**File B: app.py** (Click Add file -> Create new file)\n",
            "-------------------------\n",
            "\n",
            "import gradio as gr\n",
            "import yfinance as yf\n",
            "import pandas as pd\n",
            "import numpy as np\n",
            "from sklearn.preprocessing import MinMaxScaler\n",
            "from tensorflow.keras.models import Sequential\n",
            "from tensorflow.keras.layers import LSTM, Dense\n",
            "import io\n",
            "import matplotlib.pyplot as plt\n",
            "\n",
            "# Configuration\n",
            "SEQ_LENGTH = 60 \n",
            "TICKER_FOR_TRAINING = 'AAPL'\n",
            "\n",
            "# --- Model Training (Executed once on Space startup) ---\n",
            "def create_seq(data, seq_len): \n",
            "    X, y = [], []\n",
            "    for i in range(seq_len, len(data)):\n",
            "        X.append(data[i-seq_len:i])\n",
            "        y.append(data[i])\n",
            "    return np.array(X), np.array(y)\n",
            "\n",
            "def train_lstm(ticker=TICKER_FOR_TRAINING, seq_len=SEQ_LENGTH):\n",
            "    print(f\"Training initial model on {ticker}...\")\n",
            "    # Using 10 years of data for a more robust initial model\n",
            "    data = yf.download(ticker, period='10y')['Close'].dropna()\n",
            "    \n",
            "    if len(data) < seq_len + 10:\n",
            "        raise ValueError(f\"Not enough data for {ticker}\")\n",
            "\n",
            "    scaler = MinMaxScaler()\n",
            "    scaled = scaler.fit_transform(data.values.reshape(-1,1))\n",
            "    \n",
            "    X, y = create_seq(scaled, seq_len)\n",
            "    X = X.reshape((X.shape[0], X.shape[1], 1))\n",
            "    \n",
            "    # Recreate and train the model structure\n",
            "    model = Sequential([\n",
            "        LSTM(50, input_shape=(seq_len,1)), \n",
            "        Dense(1)\n",
            "    ])\n",
            "    model.compile(optimizer='adam', loss='mse')\n",
            "    model.fit(X, y, epochs=15, batch_size=32, verbose=0)\n",
            "    \n",
            "    return model, scaler\n",
            "\n",
            "# Initialize the model and scaler globally\n",
            "try:\n",
            "    global_model, global_scaler = train_lstm()\n",
            "    print(\"Initial LSTM model trained successfully.\")\n",
            "except Exception as e:\n",
            "    print(f\"Error during initial model training: {e}\")\n",
            "    global_model, global_scaler = None, None \n",
            "\n",
            "# --- Forecasting Function ---\n",
            "def forecast(ticker, forecast_days):\n",
            "    if global_model is None or global_scaler is None:\n",
            "        return \"Model failed to load/train on startup. Check Space logs for details.\"\n",
            "\n",
            "    # Download fresh data for the prediction point\n",
            "    data = yf.download(ticker, period='10y')['Close'].dropna()\n",
            "    \n",
            "    if len(data) < SEQ_LENGTH:\n",
            "        return f\"Not enough historical data for {ticker} to use {SEQ_LENGTH} days lookback.\"\n",
            "\n",
            "    # Scale and prepare the last sequence\n",
            "    scaled = global_scaler.transform(data.values.reshape(-1,1))\n",
            "    \n",
            "    # Extract the last sequence\n",
            "    last_sequence = scaled[-SEQ_LENGTH:].reshape(1, SEQ_LENGTH, 1)\n",
            "\n",
            "    # Multi-step prediction loop\n",
            "    predictions = []\n",
            "    current_input = last_sequence\n",
            "    for _ in range(forecast_days):\n",
            "        pred_scaled = global_model.predict(current_input, verbose=0)\n",
            "        predictions.append(pred_scaled[0, 0])\n",
            "        # Update the sequence: drop oldest value, append the new prediction\n",
            "        new_input = np.append(current_input[:, 1:, :], pred_scaled.reshape(1, 1, 1), axis=1)\n",
            "        current_input = new_input\n",
            "        \n",
            "    pred_unscaled = global_scaler.inverse_transform(np.array(predictions).reshape(-1, 1)).flatten()\n",
            "\n",
            "    # --- Plotting ---\n",
            "    fig, ax = plt.subplots(figsize=(10, 5))\n",
            "    \n",
            "    # Plot historical data (last 100 days)\n",
            "    ax.plot(data.index[-100:], data.values[-100:], label='Historical Price', color='blue')\n",
            "    \n",
            "    # Generate future dates and plot forecast\n",
            "    last_date = data.index[-1]\n",
            "    future_dates = pd.date_range(start=last_date + pd.Timedelta(days=1), periods=forecast_days)\n",
            "    \n",
            "    ax.plot(future_dates, pred_unscaled, 'r--', label='LSTM Forecast')\n",
            "    \n",
            "    ax.set_title(f'{ticker} Price Forecast using LSTM')\n",
            "    ax.set_xlabel('Date')\n",
            "    ax.set_ylabel('Price (USD)')\n",
            "    ax.legend()\n",
            "    ax.grid(True)\n",
            "    \n",
            "    # Save plot to buffer\n",
            "    buf = io.BytesIO()\n",
            "    fig.savefig(buf, format='png', bbox_inches='tight')\n",
            "    buf.seek(0)\n",
            "    plt.close(fig) \n",
            "    \n",
            "    return buf.getvalue()\n",
            "\n",
            "# Gradio Interface\n",
            "iface = gr.Interface(\n",
            "    fn=forecast,\n",
            "    inputs=[gr.Dropdown(['AAPL', 'GOOGL', 'MSFT'], label=\"Stock Ticker\"), \n",
            "            gr.Slider(1, 15, value=7, label=\"Forecast Days (Max 15)\", step=1)],\n",
            "    outputs=gr.Image(type=\"pil\", label=\"Forecast Plot\"),\n",
            "    title=\"Stock Price Forecaster (LSTM)\",\n",
            "    description=\"A deep learning forecaster for stock prices using an LSTM model trained on 10 years of historical data.\"\n",
            ")\n",
            "\n",
            "iface.launch()\n",
            "\n",
            "-------------------------\n",
            "\n",
            "3. Commit both files (with a message like 'Initial deployment files').\n",
            "4. Wait 2-5 minutes. Your Space will build and go live!\n",
            "\n",
            "\n",
            "### 3. Final Deliverable ###\n",
            "The final link to share will be: **https://huggingface.co/spaces/DataSynthis_ML_JobTask**\n"
          ]
        }
      ]
    },
    {
      "cell_type": "code",
      "source": [
        "# Deployment Files Content\n",
        "\n",
        "requirements_content = \"\"\"\n",
        "yfinance\n",
        "pandas\n",
        "numpy\n",
        "scikit-learn\n",
        "tensorflow\n",
        "gradio\n",
        "matplotlib\n",
        "\"\"\"\n",
        "\n",
        "app_content = \"\"\"\n",
        "import gradio as gr\n",
        "import yfinance as yf\n",
        "import pandas as pd\n",
        "import numpy as np\n",
        "from sklearn.preprocessing import MinMaxScaler\n",
        "from tensorflow.keras.models import Sequential\n",
        "from tensorflow.keras.layers import LSTM, Dense\n",
        "import io\n",
        "import matplotlib.pyplot as plt\n",
        "\n",
        "# Configuration\n",
        "SEQ_LENGTH = 60\n",
        "TICKER_FOR_TRAINING = 'AAPL'\n",
        "\n",
        "# --- Model Training (Executed once on Space startup) ---\n",
        "def create_seq(data, seq_len):\n",
        "    X, y = [], []\n",
        "    for i in range(seq_len, len(data)):\n",
        "        X.append(data[i-seq_len:i])\n",
        "        y.append(data[i])\n",
        "    return np.array(X), np.array(y)\n",
        "\n",
        "def train_lstm(ticker=TICKER_FOR_TRAINING, seq_len=SEQ_LENGTH):\n",
        "    print(f\"Training initial model on {ticker}...\")\n",
        "    # Using 10 years of data for a more robust initial model\n",
        "    data = yf.download(ticker, period='10y')['Close'].dropna()\n",
        "\n",
        "    if len(data) < seq_len + 10:\n",
        "        raise ValueError(f\"Not enough data for {ticker}\")\n",
        "\n",
        "    scaler = MinMaxScaler()\n",
        "    scaled = scaler.fit_transform(data.values.reshape(-1,1))\n",
        "\n",
        "    X, y = create_seq(scaled, seq_len)\n",
        "    X = X.reshape((X.shape[0], X.shape[1], 1))\n",
        "\n",
        "    # Recreate and train the model structure\n",
        "    model = Sequential([\n",
        "        LSTM(50, input_shape=(seq_len,1)),\n",
        "        Dense(1)\n",
        "    ])\n",
        "    model.compile(optimizer='adam', loss='mse')\n",
        "    model.fit(X, y, epochs=15, batch_size=32, verbose=0)\n",
        "\n",
        "    return model, scaler\n",
        "\n",
        "# Initialize the model and scaler globally\n",
        "try:\n",
        "    global_model, global_scaler = train_lstm()\n",
        "    print(\"Initial LSTM model trained successfully.\")\n",
        "except Exception as e:\n",
        "    print(f\"Error during initial model training: {e}\")\n",
        "    global_model, global_scaler = None, None\n",
        "\n",
        "# --- Forecasting Function ---\n",
        "def forecast(ticker, forecast_days):\n",
        "    if global_model is None or global_scaler is None:\n",
        "        return \"Model failed to load/train on startup. Check Space logs for details.\"\n",
        "\n",
        "    # Download fresh data for the prediction point\n",
        "    data = yf.download(ticker, period='10y')['Close'].dropna()\n",
        "\n",
        "    if len(data) < SEQ_LENGTH:\n",
        "        return f\"Not enough historical data for {ticker} to use {SEQ_LENGTH} days lookback.\"\n",
        "\n",
        "    # Scale and prepare the last sequence\n",
        "    scaled = global_scaler.transform(data.values.reshape(-1,1))\n",
        "\n",
        "    # Extract the last sequence\n",
        "    last_sequence = scaled[-SEQ_LENGTH:].reshape(1, SEQ_LENGTH, 1)\n",
        "\n",
        "    # Multi-step prediction loop\n",
        "    predictions = []\n",
        "    current_input = last_sequence\n",
        "    for _ in range(forecast_days):\n",
        "        pred_scaled = global_model.predict(current_input, verbose=0)\n",
        "        predictions.append(pred_scaled[0, 0])\n",
        "        # Update the sequence: drop oldest value, append the new prediction\n",
        "        new_input = np.append(current_input[:, 1:, :], pred_scaled.reshape(1, 1, 1), axis=1)\n",
        "        current_input = new_input\n",
        "\n",
        "    pred_unscaled = global_scaler.inverse_transform(np.array(predictions).reshape(-1, 1)).flatten()\n",
        "\n",
        "    # --- Plotting ---\n",
        "    fig, ax = plt.subplots(figsize=(10, 5))\n",
        "\n",
        "    # Plot historical data (last 100 days)\n",
        "    ax.plot(data.index[-100:], data.values[-100:], label='Historical Price', color='blue')\n",
        "\n",
        "    # Generate future dates and plot forecast\n",
        "    last_date = data.index[-1]\n",
        "    future_dates = pd.date_range(start=last_date + pd.Timedelta(days=1), periods=forecast_days)\n",
        "\n",
        "    ax.plot(future_dates, pred_unscaled, 'r--', label='LSTM Forecast')\n",
        "\n",
        "    ax.set_title(f'{ticker} Price Forecast using LSTM')\n",
        "    ax.set_xlabel('Date')\n",
        "    ax.set_ylabel('Price (USD)')\n",
        "    ax.legend()\n",
        "    ax.grid(True)\n",
        "\n",
        "    # Save plot to buffer\n",
        "    buf = io.BytesIO()\n",
        "    fig.savefig(buf, format='png', bbox_inches='tight')\n",
        "    buf.seek(0)\n",
        "    plt.close(fig)\n",
        "\n",
        "    return buf.getvalue()\n",
        "\n",
        "# Gradio Interface\n",
        "iface = gr.Interface(\n",
        "    fn=forecast,\n",
        "    inputs=[gr.Dropdown(['AAPL', 'GOOGL', 'MSFT'], label=\"Stock Ticker\"),\n",
        "            gr.Slider(1, 15, value=7, label=\"Forecast Days (Max 15)\", step=1)],\n",
        "    outputs=gr.Image(type=\"pil\", label=\"Forecast Plot\"),\n",
        "    title=\"Stock Price Forecaster (LSTM)\",\n",
        "    description=\"A deep learning forecaster for stock prices using an LSTM model trained on 10 years of historical data.\"\n",
        ")\n",
        "\n",
        "iface.launch()\n",
        "\"\"\"\n",
        "\n",
        "print(\"\\n\" + \"=\"*80)\n",
        "print(\"ACTION REQUIRED: DEPLOYMENT INSTRUCTIONS\")\n",
        "print(\"=\"*80)\n",
        "\n",
        "print(\"\\n\\n### 1. Hugging Face Space Creation ###\")\n",
        "print(\"1. Go to **https://huggingface.co/settings/spaces** and click **New Space**.\")\n",
        "print(\"2. Set the **Space name** to: **DataSynthis_ML_JobTask**\")\n",
        "print(\"3. Select **SDK** as **Gradio**.\")\n",
        "print(\"4. Select **Public** visibility.\")\n",
        "print(\"5. Click **Create Space**.\")\n",
        "\n",
        "print(\"\\n\\n### 2. Upload/Create Files ###\")\n",
        "print(\"In your new Space, go to the **Files** tab.\")\n",
        "\n",
        "print(\"\\n**File A: requirements.txt** (Click Add file -> Create new file)\")\n",
        "print(\"-\" * 25)\n",
        "print(requirements_content)\n",
        "print(\"-\" * 25)\n",
        "\n",
        "print(\"\\n**File B: app.py** (Click Add file -> Create new file)\")\n",
        "print(\"-\" * 25)\n",
        "print(app_content)\n",
        "print(\"-\" * 25)\n",
        "\n",
        "print(\"\\n3. Commit both files (with a message like 'Initial deployment files').\")\n",
        "print(\"4. Wait 2-5 minutes. Your Space will build and go live!\")\n",
        "\n",
        "print(\"\\n\\n### 3. Final Deliverable ###\")\n",
        "print(\"The final link to share will be: **https://huggingface.co/spaces/DataSynthis_ML_JobTask**\")"
      ],
      "metadata": {
        "colab": {
          "base_uri": "https://localhost:8080/"
        },
        "id": "rTuAJ-8vHV56",
        "outputId": "fe1f399d-0d87-4d03-96c7-9e013f041b0b"
      },
      "execution_count": null,
      "outputs": [
        {
          "output_type": "stream",
          "name": "stdout",
          "text": [
            "\n",
            "================================================================================\n",
            "ACTION REQUIRED: DEPLOYMENT INSTRUCTIONS\n",
            "================================================================================\n",
            "\n",
            "\n",
            "### 1. Hugging Face Space Creation ###\n",
            "1. Go to **https://huggingface.co/settings/spaces** and click **New Space**.\n",
            "2. Set the **Space name** to: **DataSynthis_ML_JobTask**\n",
            "3. Select **SDK** as **Gradio**.\n",
            "4. Select **Public** visibility.\n",
            "5. Click **Create Space**.\n",
            "\n",
            "\n",
            "### 2. Upload/Create Files ###\n",
            "In your new Space, go to the **Files** tab.\n",
            "\n",
            "**File A: requirements.txt** (Click Add file -> Create new file)\n",
            "-------------------------\n",
            "\n",
            "yfinance\n",
            "pandas\n",
            "numpy\n",
            "scikit-learn\n",
            "tensorflow\n",
            "gradio\n",
            "matplotlib\n",
            "\n",
            "-------------------------\n",
            "\n",
            "**File B: app.py** (Click Add file -> Create new file)\n",
            "-------------------------\n",
            "\n",
            "import gradio as gr\n",
            "import yfinance as yf\n",
            "import pandas as pd\n",
            "import numpy as np\n",
            "from sklearn.preprocessing import MinMaxScaler\n",
            "from tensorflow.keras.models import Sequential\n",
            "from tensorflow.keras.layers import LSTM, Dense\n",
            "import io\n",
            "import matplotlib.pyplot as plt\n",
            "\n",
            "# Configuration\n",
            "SEQ_LENGTH = 60 \n",
            "TICKER_FOR_TRAINING = 'AAPL'\n",
            "\n",
            "# --- Model Training (Executed once on Space startup) ---\n",
            "def create_seq(data, seq_len): \n",
            "    X, y = [], []\n",
            "    for i in range(seq_len, len(data)):\n",
            "        X.append(data[i-seq_len:i])\n",
            "        y.append(data[i])\n",
            "    return np.array(X), np.array(y)\n",
            "\n",
            "def train_lstm(ticker=TICKER_FOR_TRAINING, seq_len=SEQ_LENGTH):\n",
            "    print(f\"Training initial model on {ticker}...\")\n",
            "    # Using 10 years of data for a more robust initial model\n",
            "    data = yf.download(ticker, period='10y')['Close'].dropna()\n",
            "    \n",
            "    if len(data) < seq_len + 10:\n",
            "        raise ValueError(f\"Not enough data for {ticker}\")\n",
            "\n",
            "    scaler = MinMaxScaler()\n",
            "    scaled = scaler.fit_transform(data.values.reshape(-1,1))\n",
            "    \n",
            "    X, y = create_seq(scaled, seq_len)\n",
            "    X = X.reshape((X.shape[0], X.shape[1], 1))\n",
            "    \n",
            "    # Recreate and train the model structure\n",
            "    model = Sequential([\n",
            "        LSTM(50, input_shape=(seq_len,1)), \n",
            "        Dense(1)\n",
            "    ])\n",
            "    model.compile(optimizer='adam', loss='mse')\n",
            "    model.fit(X, y, epochs=15, batch_size=32, verbose=0)\n",
            "    \n",
            "    return model, scaler\n",
            "\n",
            "# Initialize the model and scaler globally\n",
            "try:\n",
            "    global_model, global_scaler = train_lstm()\n",
            "    print(\"Initial LSTM model trained successfully.\")\n",
            "except Exception as e:\n",
            "    print(f\"Error during initial model training: {e}\")\n",
            "    global_model, global_scaler = None, None \n",
            "\n",
            "# --- Forecasting Function ---\n",
            "def forecast(ticker, forecast_days):\n",
            "    if global_model is None or global_scaler is None:\n",
            "        return \"Model failed to load/train on startup. Check Space logs for details.\"\n",
            "\n",
            "    # Download fresh data for the prediction point\n",
            "    data = yf.download(ticker, period='10y')['Close'].dropna()\n",
            "    \n",
            "    if len(data) < SEQ_LENGTH:\n",
            "        return f\"Not enough historical data for {ticker} to use {SEQ_LENGTH} days lookback.\"\n",
            "\n",
            "    # Scale and prepare the last sequence\n",
            "    scaled = global_scaler.transform(data.values.reshape(-1,1))\n",
            "    \n",
            "    # Extract the last sequence\n",
            "    last_sequence = scaled[-SEQ_LENGTH:].reshape(1, SEQ_LENGTH, 1)\n",
            "\n",
            "    # Multi-step prediction loop\n",
            "    predictions = []\n",
            "    current_input = last_sequence\n",
            "    for _ in range(forecast_days):\n",
            "        pred_scaled = global_model.predict(current_input, verbose=0)\n",
            "        predictions.append(pred_scaled[0, 0])\n",
            "        # Update the sequence: drop oldest value, append the new prediction\n",
            "        new_input = np.append(current_input[:, 1:, :], pred_scaled.reshape(1, 1, 1), axis=1)\n",
            "        current_input = new_input\n",
            "        \n",
            "    pred_unscaled = global_scaler.inverse_transform(np.array(predictions).reshape(-1, 1)).flatten()\n",
            "\n",
            "    # --- Plotting ---\n",
            "    fig, ax = plt.subplots(figsize=(10, 5))\n",
            "    \n",
            "    # Plot historical data (last 100 days)\n",
            "    ax.plot(data.index[-100:], data.values[-100:], label='Historical Price', color='blue')\n",
            "    \n",
            "    # Generate future dates and plot forecast\n",
            "    last_date = data.index[-1]\n",
            "    future_dates = pd.date_range(start=last_date + pd.Timedelta(days=1), periods=forecast_days)\n",
            "    \n",
            "    ax.plot(future_dates, pred_unscaled, 'r--', label='LSTM Forecast')\n",
            "    \n",
            "    ax.set_title(f'{ticker} Price Forecast using LSTM')\n",
            "    ax.set_xlabel('Date')\n",
            "    ax.set_ylabel('Price (USD)')\n",
            "    ax.legend()\n",
            "    ax.grid(True)\n",
            "    \n",
            "    # Save plot to buffer\n",
            "    buf = io.BytesIO()\n",
            "    fig.savefig(buf, format='png', bbox_inches='tight')\n",
            "    buf.seek(0)\n",
            "    plt.close(fig) \n",
            "    \n",
            "    return buf.getvalue()\n",
            "\n",
            "# Gradio Interface\n",
            "iface = gr.Interface(\n",
            "    fn=forecast,\n",
            "    inputs=[gr.Dropdown(['AAPL', 'GOOGL', 'MSFT'], label=\"Stock Ticker\"), \n",
            "            gr.Slider(1, 15, value=7, label=\"Forecast Days (Max 15)\", step=1)],\n",
            "    outputs=gr.Image(type=\"pil\", label=\"Forecast Plot\"),\n",
            "    title=\"Stock Price Forecaster (LSTM)\",\n",
            "    description=\"A deep learning forecaster for stock prices using an LSTM model trained on 10 years of historical data.\"\n",
            ")\n",
            "\n",
            "iface.launch()\n",
            "\n",
            "-------------------------\n",
            "\n",
            "3. Commit both files (with a message like 'Initial deployment files').\n",
            "4. Wait 2-5 minutes. Your Space will build and go live!\n",
            "\n",
            "\n",
            "### 3. Final Deliverable ###\n",
            "The final link to share will be: **https://huggingface.co/spaces/DataSynthis_ML_JobTask**\n"
          ]
        }
      ]
    },
    {
      "cell_type": "code",
      "source": [],
      "metadata": {
        "id": "5LZcoBA7G2VV"
      },
      "execution_count": null,
      "outputs": []
    }
  ]
}